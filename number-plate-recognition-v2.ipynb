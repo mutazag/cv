{
 "cells": [
  {
   "cell_type": "code",
   "execution_count": 9,
   "metadata": {},
   "outputs": [],
   "source": [
    "import configparser\n",
    "config = configparser.ConfigParser()\n",
    "config.read('secrets.ini')\n",
    "custom_vision_key = config['custom_vision']['key']\n",
    "custom_vision_url = config['custom_vision']['url']\n",
    "custom_vision_imgurl = config['custom_vision']['imgurl']"
   ]
  },
  {
   "cell_type": "code",
   "execution_count": 10,
   "metadata": {
    "tags": [
     "outputPrepend"
    ]
   },
   "outputs": [],
   "source": [
    "import requests\n",
    "import json\n",
    "import base64"
   ]
  },
  {
   "cell_type": "code",
   "execution_count": 11,
   "metadata": {},
   "outputs": [
    {
     "output_type": "stream",
     "name": "stdout",
     "text": "{'id': '56c40745-6538-4fe3-8829-acad0a789708', 'project': '2c4e0486-88ee-4369-b033-dd24e1e07885', 'iteration': 'e48ad707-5e08-47dd-9273-396ce4a4afa7', 'created': '2020-06-01T08:23:16.733Z', 'predictions': [{'probability': 0.0160742067, 'tagId': '1752966c-d1e1-46f5-924b-505d90a16981', 'tagName': 'plate', 'boundingBox': {'left': 0.004565847, 'top': 0.240038842, 'width': 0.0257141441, 'height': 0.0753260553}}, {'probability': 0.115149885, 'tagId': '1752966c-d1e1-46f5-924b-505d90a16981', 'tagName': 'plate', 'boundingBox': {'left': 0.00208997354, 'top': 0.278702438, 'width': 0.0318060964, 'height': 0.116016328}}, {'probability': 0.0116057871, 'tagId': '1752966c-d1e1-46f5-924b-505d90a16981', 'tagName': 'plate', 'boundingBox': {'left': 0.56674093, 'top': 0.323081523, 'width': 0.07001418, 'height': 0.0435321629}}, {'probability': 0.2426998, 'tagId': '1752966c-d1e1-46f5-924b-505d90a16981', 'tagName': 'plate', 'boundingBox': {'left': 0.8473767, 'top': 0.2650637, 'width': 0.04177034, 'height': 0.191120386}}, {'probability': 0.0224477071, 'tagId': '1752966c-d1e1-46f5-924b-505d90a16981', 'tagName': 'plate', 'boundingBox': {'left': 0.8216882, 'top': 0.408206582, 'width': 0.05401826, 'height': 0.0663950741}}, {'probability': 0.0193691272, 'tagId': '1752966c-d1e1-46f5-924b-505d90a16981', 'tagName': 'plate', 'boundingBox': {'left': 0.296845555, 'top': 0.523149967, 'width': 0.026465416, 'height': 0.125186563}}, {'probability': 0.06604863, 'tagId': '1752966c-d1e1-46f5-924b-505d90a16981', 'tagName': 'plate', 'boundingBox': {'left': 0.339198261, 'top': 0.646098256, 'width': 0.0238784254, 'height': 0.163172245}}, {'probability': 0.09856187, 'tagId': '1752966c-d1e1-46f5-924b-505d90a16981', 'tagName': 'plate', 'boundingBox': {'left': 0.387504637, 'top': 0.626150846, 'width': 0.03587413, 'height': 0.251276731}}, {'probability': 0.9894904, 'tagId': '1752966c-d1e1-46f5-924b-505d90a16981', 'tagName': 'plate', 'boundingBox': {'left': 0.630741656, 'top': 0.692196131, 'width': 0.09549934, 'height': 0.07045704}}, {'probability': 0.032717105, 'tagId': '1752966c-d1e1-46f5-924b-505d90a16981', 'tagName': 'plate', 'boundingBox': {'left': 0.0555171743, 'top': 0.785772, 'width': 0.05167397, 'height': 0.08669335}}, {'probability': 0.05540543, 'tagId': '1752966c-d1e1-46f5-924b-505d90a16981', 'tagName': 'plate', 'boundingBox': {'left': 0.3967748, 'top': 0.6970785, 'width': 0.0354838371, 'height': 0.185173571}}, {'probability': 0.0245039985, 'tagId': '1752966c-d1e1-46f5-924b-505d90a16981', 'tagName': 'plate', 'boundingBox': {'left': 0.860340536, 'top': 0.7296392, 'width': 0.04003918, 'height': 0.1512295}}, {'probability': 0.360363036, 'tagId': '1752966c-d1e1-46f5-924b-505d90a16981', 'tagName': 'plate', 'boundingBox': {'left': 0.9271676, 'top': 0.07927713, 'width': 0.0700691938, 'height': 0.40121454}}, {'probability': 0.03359768, 'tagId': '1752966c-d1e1-46f5-924b-505d90a16981', 'tagName': 'plate', 'boundingBox': {'left': 0.0378093943, 'top': 0.232795462, 'width': 0.13990134, 'height': 0.21027042}}, {'probability': 0.0211794432, 'tagId': '1752966c-d1e1-46f5-924b-505d90a16981', 'tagName': 'plate', 'boundingBox': {'left': 0.364267021, 'top': 0.597579658, 'width': 0.07389718, 'height': 0.2850703}}, {'probability': 0.0108628673, 'tagId': '1752966c-d1e1-46f5-924b-505d90a16981', 'tagName': 'plate', 'boundingBox': {'left': 0.57478565, 'top': 0.681808054, 'width': 0.232181966, 'height': 0.106032908}}]}\n"
    }
   ],
   "source": [
    "dataheaders = {'Content-Type': 'application/octet-stream', 'Prediction-Key': custom_vision_key}\n",
    "data = open('anpr_samples/hsv39.jpg', 'rb').read()\n",
    "\n",
    "custom_vision_resp = requests.post(url=custom_vision_imgurl, data=data, headers=dataheaders).json()\n",
    "print(custom_vision_resp)"
   ]
  },
  {
   "cell_type": "code",
   "execution_count": 53,
   "metadata": {},
   "outputs": [
    {
     "output_type": "stream",
     "name": "stdout",
     "text": "{'probability': {8: 0.9894904}, 'tagId': {8: '1752966c-d1e1-46f5-924b-505d90a16981'}, 'tagName': {8: 'plate'}, 'boundingBox': {8: {'left': 0.630741656, 'top': 0.692196131, 'width': 0.09549934, 'height': 0.07045704}}}\n"
    }
   ],
   "source": [
    "import pandas as pd\n",
    "\n",
    "hit = pd.DataFrame(custom_vision_resp['predictions']).sort_values(by='probability',ascending=False).head(1).to_dict()\n",
    "print(hit)"
   ]
  },
  {
   "cell_type": "code",
   "execution_count": 19,
   "metadata": {},
   "outputs": [],
   "source": [
    "import cv2\n",
    "import numpy as np\n",
    "from io import BytesIO"
   ]
  },
  {
   "cell_type": "code",
   "execution_count": 37,
   "metadata": {},
   "outputs": [
    {
     "output_type": "execute_result",
     "data": {
      "text/plain": "array([255, 216, 255, ...,   1, 255, 217], dtype=uint8)"
     },
     "metadata": {},
     "execution_count": 37
    }
   ],
   "source": [
    "np.array(bytearray(data), dtype='uint8')"
   ]
  },
  {
   "cell_type": "code",
   "execution_count": 38,
   "metadata": {},
   "outputs": [],
   "source": [
    "img = cv2.imdecode(np.array(bytearray(data), dtype='uint8'), cv2.IMREAD_COLOR)"
   ]
  },
  {
   "cell_type": "code",
   "execution_count": 54,
   "metadata": {},
   "outputs": [],
   "source": [
    "item = hit['boundingBox'].popitem()"
   ]
  },
  {
   "cell_type": "code",
   "execution_count": 57,
   "metadata": {},
   "outputs": [],
   "source": [
    "tagid, boundingbox = item"
   ]
  },
  {
   "cell_type": "code",
   "execution_count": 151,
   "metadata": {},
   "outputs": [
    {
     "output_type": "stream",
     "name": "stdout",
     "text": "0.630741656 0.692196131 0.09549934 0.07045704\n1280 781\n[[0.630741656, 0.692196131], [0.726240996, 0.692196131], [0.630741656, 0.762653171], [0.726240996, 0.762653171]]\n"
    }
   ],
   "source": [
    "l,t,w,h = (boundingbox['left'], boundingbox['top'], boundingbox['width'], boundingbox['height'])\n",
    "print(l,t,w,h)\n",
    "print('width, height')\n",
    "print(img.shape[1],img.shape[0])\n",
    "print([[l,t],[l+w,t],[l,t+h],[l+w,t+h]])\n",
    "polylines1 = np.multiply([[l,t],[l+w,t],[l+w,t+h],[l,t+h]], [img.shape[1],img.shape[0]])"
   ]
  },
  {
   "cell_type": "code",
   "execution_count": 145,
   "metadata": {},
   "outputs": [],
   "source": [
    "polylines = [[800,550],[920,550], [920,600], [800,600]]\n",
    "img2 = cv2.polylines(img, np.int32([polylines1]), 1, (255,255,0), 4, lineType=cv2.LINE_AA )"
   ]
  },
  {
   "cell_type": "code",
   "execution_count": 162,
   "metadata": {},
   "outputs": [],
   "source": [
    "img3 = [int(t),int(t+h), int(l),int(l+w)]\n"
   ]
  },
  {
   "cell_type": "code",
   "execution_count": 160,
   "metadata": {},
   "outputs": [
    {
     "output_type": "error",
     "ename": "error",
     "evalue": "OpenCV(4.2.0) C:\\projects\\opencv-python\\opencv\\modules\\highgui\\src\\window.cpp:376: error: (-215:Assertion failed) size.width>0 && size.height>0 in function 'cv::imshow'\n",
     "traceback": [
      "\u001b[1;31m---------------------------------------------------------------------------\u001b[0m",
      "\u001b[1;31merror\u001b[0m                                     Traceback (most recent call last)",
      "\u001b[1;32m<ipython-input-160-cb3a445042ae>\u001b[0m in \u001b[0;36m<module>\u001b[1;34m\u001b[0m\n\u001b[1;32m----> 1\u001b[1;33m \u001b[0mcv2\u001b[0m\u001b[1;33m.\u001b[0m\u001b[0mimshow\u001b[0m\u001b[1;33m(\u001b[0m\u001b[1;34m'img3'\u001b[0m\u001b[1;33m,\u001b[0m \u001b[0mimg3\u001b[0m\u001b[1;33m)\u001b[0m\u001b[1;33m\u001b[0m\u001b[1;33m\u001b[0m\u001b[0m\n\u001b[0m\u001b[0;32m      2\u001b[0m \u001b[0mcv2\u001b[0m\u001b[1;33m.\u001b[0m\u001b[0mimshow\u001b[0m\u001b[1;33m(\u001b[0m\u001b[1;34m'img2'\u001b[0m\u001b[1;33m,\u001b[0m \u001b[0mimg2\u001b[0m\u001b[1;33m)\u001b[0m\u001b[1;33m\u001b[0m\u001b[1;33m\u001b[0m\u001b[0m\n",
      "\u001b[1;31merror\u001b[0m: OpenCV(4.2.0) C:\\projects\\opencv-python\\opencv\\modules\\highgui\\src\\window.cpp:376: error: (-215:Assertion failed) size.width>0 && size.height>0 in function 'cv::imshow'\n"
     ]
    }
   ],
   "source": [
    "cv2.imshow('img3', img3)\n",
    "cv2.imshow('img2', img2)\n"
   ]
  },
  {
   "cell_type": "code",
   "execution_count": 148,
   "metadata": {},
   "outputs": [],
   "source": [
    "cv2.waitKey(0)\n",
    "cv2.destroyAllWindows()"
   ]
  },
  {
   "cell_type": "code",
   "execution_count": 149,
   "metadata": {},
   "outputs": [
    {
     "output_type": "execute_result",
     "data": {
      "text/plain": "array([[[800, 550],\n        [920, 550],\n        [920, 600],\n        [800, 600]]])"
     },
     "metadata": {},
     "execution_count": 149
    }
   ],
   "source": [
    "np.int32([polylines])"
   ]
  },
  {
   "cell_type": "code",
   "execution_count": null,
   "metadata": {},
   "outputs": [],
   "source": []
  }
 ],
 "metadata": {
  "language_info": {
   "codemirror_mode": {
    "name": "ipython",
    "version": 3
   },
   "file_extension": ".py",
   "mimetype": "text/x-python",
   "name": "python",
   "nbconvert_exporter": "python",
   "pygments_lexer": "ipython3",
   "version": "3.8.3-final"
  },
  "orig_nbformat": 2,
  "kernelspec": {
   "name": "python38364bitb680b9ea85ba4b86b35b18465fd75df3",
   "display_name": "Python 3.8.3 64-bit"
  }
 },
 "nbformat": 4,
 "nbformat_minor": 2
}