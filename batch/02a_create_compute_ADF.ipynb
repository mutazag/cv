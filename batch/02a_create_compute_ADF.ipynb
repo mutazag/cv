{
 "metadata": {
  "language_info": {
   "codemirror_mode": {
    "name": "ipython",
    "version": 3
   },
   "file_extension": ".py",
   "mimetype": "text/x-python",
   "name": "python",
   "nbconvert_exporter": "python",
   "pygments_lexer": "ipython3",
   "version": 3
  },
  "orig_nbformat": 2,
  "kernelspec": {
   "name": "python_defaultSpec_1597224432074",
   "display_name": "Python 3.6.9 64-bit"
  }
 },
 "nbformat": 4,
 "nbformat_minor": 2,
 "cells": [
  {
   "cell_type": "code",
   "execution_count": 1,
   "metadata": {
    "tags": []
   },
   "outputs": [
    {
     "output_type": "stream",
     "name": "stdout",
     "text": "1.10.0\n"
    }
   ],
   "source": [
    "import json\n",
    "import azureml.core\n",
    "from azureml.core import Workspace, Datastore, Dataset\n",
    "from azureml.pipeline.core import PipelineData\n",
    "from azureml.core.compute import ComputeTarget, AmlCompute, DataFactoryCompute\n",
    "\n",
    "print(azureml.core.VERSION)\n",
    "ws = Workspace.from_config()"
   ]
  },
  {
   "cell_type": "code",
   "execution_count": 3,
   "metadata": {
    "tags": []
   },
   "outputs": [
    {
     "output_type": "stream",
     "name": "stdout",
     "text": "creating ADF compute...\nProvisioning operation finished, operation \"Succeeded\"\n"
    }
   ],
   "source": [
    "adf_name = \"datafactory1\"\n",
    "\n",
    "if adf_name in ws.compute_targets: \n",
    "    adf_compute = ws.compute_targets[adf_name]\n",
    "    if adf_compute and type(adf_compute) is DataFactoryCompute: \n",
    "        print('Found ADF compute: ', adf_name)\n",
    "else: \n",
    "    print('creating ADF compute...')\n",
    "    attach_configuration = DataFactoryCompute.attach_configuration(resource_id='/subscriptions/907c8efc-c2c8-4c49-a4e1-aeb880e10c88/resourceGroups/aml_adf/providers/Microsoft.DataFactory/factories/magadf')\n",
    "    attach_configuration.validate_configuration()\n",
    "    adf_compute = ComputeTarget.attach(workspace=ws, name=adf_name, attach_configuration=attach_configuration)\n",
    "    adf_compute.wait_for_completion()\n",
    "\n"
   ]
  },
  {
   "cell_type": "code",
   "execution_count": 4,
   "metadata": {
    "tags": []
   },
   "outputs": [
    {
     "output_type": "stream",
     "name": "stdout",
     "text": "['datafactory', 'datafactory1', 'aml-compute1']\n"
    }
   ],
   "source": [
    "print([c for c in ws.compute_targets])"
   ]
  },
  {
   "cell_type": "code",
   "execution_count": null,
   "metadata": {},
   "outputs": [],
   "source": []
  }
 ]
}