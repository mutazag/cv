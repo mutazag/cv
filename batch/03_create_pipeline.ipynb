{
 "metadata": {
  "language_info": {
   "codemirror_mode": {
    "name": "ipython",
    "version": 3
   },
   "file_extension": ".py",
   "mimetype": "text/x-python",
   "name": "python",
   "nbconvert_exporter": "python",
   "pygments_lexer": "ipython3",
   "version": 3
  },
  "orig_nbformat": 2,
  "kernelspec": {
   "name": "python_defaultSpec_1595990618749",
   "display_name": "Python 3.6.9 64-bit"
  }
 },
 "nbformat": 4,
 "nbformat_minor": 2,
 "cells": [
  {
   "cell_type": "code",
   "execution_count": 1,
   "metadata": {
    "tags": []
   },
   "outputs": [
    {
     "output_type": "stream",
     "name": "stdout",
     "text": "1.10.0\n"
    }
   ],
   "source": [
    "import json\n",
    "import azureml.core\n",
    "from azureml.core import Workspace, Datastore, Dataset\n",
    "from azureml.pipeline.core import PipelineData\n",
    "from azureml.core.compute import ComputeTarget, AmlCompute\n",
    "\n",
    "print(azureml.core.VERSION)\n",
    "ws = Workspace.from_config()"
   ]
  },
  {
   "cell_type": "code",
   "execution_count": 2,
   "metadata": {
    "tags": []
   },
   "outputs": [
    {
     "output_type": "stream",
     "name": "stdout",
     "text": "Found compute target: aml-compute1\n"
    }
   ],
   "source": [
    "compute_name = \"aml-compute1\"\n",
    "vm_size = \"STANDARD_DS1_v2\"\n",
    "if compute_name in ws.compute_targets:\n",
    "    compute_target = ws.compute_targets[compute_name]\n",
    "    if compute_target and type(compute_target) is AmlCompute:\n",
    "        print('Found compute target: ' + compute_name)\n",
    "else:\n",
    "    print('compute target not found, refer to 02_create_compute_cluster to create compute target...')"
   ]
  },
  {
   "source": [
    "# prepare datasets \n"
   ],
   "cell_type": "markdown",
   "metadata": {}
  },
  {
   "source": [
    "images_dataset = ''\n"
   ],
   "cell_type": "code",
   "metadata": {},
   "execution_count": 5,
   "outputs": []
  },
  {
   "source": [
    "# pipeline parameters"
   ],
   "cell_type": "markdown",
   "metadata": {}
  },
  {
   "cell_type": "code",
   "execution_count": 4,
   "metadata": {},
   "outputs": [],
   "source": [
    "pipeline_inpart = '' \n",
    "pipeline_kv_customimg = ''\n",
    "pipeline_kv_readapi = '' \n",
    "\n"
   ]
  },
  {
   "source": [
    "# run config and step "
   ],
   "cell_type": "markdown",
   "metadata": {}
  },
  {
   "cell_type": "code",
   "execution_count": 6,
   "metadata": {},
   "outputs": [],
   "source": [
    "parallelrunconfig = ('script', 'other stuff')\n",
    "parallelrunstep = ('config', 'inputs as mount', 'arguments passing in pipeline args')"
   ]
  },
  {
   "source": [
    "# prepare pipeline "
   ],
   "cell_type": "markdown",
   "metadata": {}
  },
  {
   "cell_type": "code",
   "execution_count": null,
   "metadata": {},
   "outputs": [],
   "source": [
    "#create pipeline\n",
    "#publish pipeline "
   ]
  }
 ]
}