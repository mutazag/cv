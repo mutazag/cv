{
 "metadata": {
  "language_info": {
   "codemirror_mode": {
    "name": "ipython",
    "version": 3
   },
   "file_extension": ".py",
   "mimetype": "text/x-python",
   "name": "python",
   "nbconvert_exporter": "python",
   "pygments_lexer": "ipython3",
   "version": 3
  },
  "orig_nbformat": 2,
  "kernelspec": {
   "name": "python_defaultSpec_1596094373238",
   "display_name": "Python 3.8.3 64-bit"
  }
 },
 "nbformat": 4,
 "nbformat_minor": 2,
 "cells": [
  {
   "cell_type": "code",
   "execution_count": null,
   "metadata": {
    "tags": []
   },
   "outputs": [],
   "source": [
    "from azureml.core import Workspace\n",
    "\n",
    "from azureml.core.authentication import ServicePrincipalAuthentication\n",
    "\n",
    "svc_pr_password = '3:sft5wyl3W.:avsw@FhR3X.?7DWQn0F'\n",
    "\n",
    "svc_pr = ServicePrincipalAuthentication(\n",
    "    tenant_id=\"72f988bf-86f1-41af-91ab-2d7cd011db47\",\n",
    "    service_principal_id=\"xxxxxxxxxxxxxxxxxx\",\n",
    "    service_principal_password=svc_pr_password)\n",
    "\n",
    "\n",
    "ws = Workspace.from_config(auth=svc_pr)\n",
    "\n",
    "print(\"Found workspace {} at location {}\".format(ws.name, ws.location))\n"
   ]
  },
  {
   "cell_type": "code",
   "execution_count": null,
   "metadata": {},
   "outputs": [],
   "source": [
    "svc_pr.get_authentication_header()"
   ]
  },
  {
   "cell_type": "code",
   "execution_count": null,
   "metadata": {},
   "outputs": [],
   "source": [
    "from azureml.pipeline.core import PublishedPipeline\n",
    "import requests\n",
    "\n",
    "pipeline_endpoint = 'https://australiaeast.api.azureml.ms/pipelines/v1.0/subscriptions/907c8efc-c2c8-4c49-a4e1-aeb880e10c88/resourceGroups/aml/providers/Microsoft.MachineLearningServices/workspaces/magaml/PipelineRuns/PipelineSubmit/6b8e8468-6eee-442f-8eb7-c20347b64be0'\n",
    "\n",
    "response = requests.post(pipeline_endpoint,\n",
    "                         headers=svc_pr.get_authentication_header(),\n",
    "                         json={'ExperimentName': 'My_Pipeline',\n",
    "                               'ParameterAssignments': {\n",
    "                                   'pipeline_inpart': '2020/07/20',\n",
    "                                    'pipeline_kv_customimg': '123',\n",
    "                                    'pipeline_kv_readapi': '342'}})"
   ]
  },
  {
   "cell_type": "code",
   "execution_count": null,
   "metadata": {},
   "outputs": [],
   "source": [
    "import json\n",
    "from collections import namedtuple \n",
    "resp_str = response.content\n",
    "resp = json.loads(response.content)\n",
    "# https://www.geeksforgeeks.org/convert-json-data-into-a-custom-python-object/\n",
    "resp_o = json.loads(resp_str, object_hook = lambda d: namedtuple('X', d.keys())(*d.values()))"
   ]
  },
  {
   "cell_type": "code",
   "execution_count": null,
   "metadata": {
    "tags": []
   },
   "outputs": [],
   "source": [
    "print(resp_o.RunUrl)\n",
    "print(resp_o.Status.StatusCode)\n",
    "print('pipeline id: ', resp_o.PipelineId)\n",
    "print('run id: ', resp_o.Id)"
   ]
  },
  {
   "cell_type": "code",
   "execution_count": null,
   "metadata": {},
   "outputs": [],
   "source": [
    "resp.keys()"
   ]
  },
  {
   "cell_type": "code",
   "execution_count": null,
   "metadata": {},
   "outputs": [],
   "source": [
    "resp"
   ]
  },
  {
   "source": [
    "# authenticate using requests\n",
    "https://docs.microsoft.com/en-us/azure/machine-learning/how-to-manage-rest"
   ],
   "cell_type": "markdown",
   "metadata": {}
  },
  {
   "cell_type": "code",
   "execution_count": null,
   "metadata": {},
   "outputs": [],
   "source": [
    "tenant_id = '72f988bf-86f1-41af-91ab-2d7cd011db47'\n",
    "client_id = 'xxxxxxxxxxxxxxxxxxxxxxx'\n",
    "client_secret = svc_pr_password\n",
    "auth_request_url = f'https://login.microsoftonline.com/{tenant_id}/oauth2/token'\n",
    "auth_request_data = f'grant_type=client_credentials&resource=https%3A%2F%2Fmanagement.azure.com%2F&client_id={client_id}&client_secret={client_secret}'"
   ]
  },
  {
   "cell_type": "code",
   "execution_count": null,
   "metadata": {
    "tags": []
   },
   "outputs": [],
   "source": [
    "print(auth_request_url)\n",
    "print(auth_request_data)\n",
    "print(pipeline_endpoint)"
   ]
  },
  {
   "cell_type": "code",
   "execution_count": null,
   "metadata": {},
   "outputs": [],
   "source": [
    "\n",
    "auth_response = requests.post(auth_request_url,data=auth_request_data)\n",
    "auth_resp_dict = json.loads(auth_response.content)\n"
   ]
  },
  {
   "cell_type": "code",
   "execution_count": null,
   "metadata": {},
   "outputs": [],
   "source": [
    "auth_resp_dict['access_token']"
   ]
  },
  {
   "cell_type": "code",
   "execution_count": null,
   "metadata": {},
   "outputs": [],
   "source": [
    "rest_response = requests.post(pipeline_endpoint,\n",
    "                         headers={'Authorization': 'Bearer ' + auth_resp_dict['access_token']},\n",
    "                         json={'ExperimentName': 'My_Pipeline_pure_rest',\n",
    "                               'ParameterAssignments': {\n",
    "                                   'pipeline_inpart': '2020/07/20',\n",
    "                                    'pipeline_kv_customimg': '123',\n",
    "                                    'pipeline_kv_readapi': '342'}})"
   ]
  },
  {
   "cell_type": "code",
   "execution_count": null,
   "metadata": {},
   "outputs": [],
   "source": [
    "json.loads(rest_response.content)"
   ]
  },
  {
   "cell_type": "code",
   "execution_count": null,
   "metadata": {},
   "outputs": [],
   "source": [
    "from azureml.pipeline.core import PipelineRun\n",
    "from azureml.core import Experiment"
   ]
  },
  {
   "cell_type": "code",
   "execution_count": null,
   "metadata": {},
   "outputs": [],
   "source": [
    "pipeline_run = PipelineRun(experiment=Experiment(workspace=ws, name='My_Pipeline_pure_rest'),run_id='1353cce4-acf6-4d00-a440-3bcdea617c03')"
   ]
  },
  {
   "cell_type": "code",
   "execution_count": null,
   "metadata": {},
   "outputs": [],
   "source": [
    "ctx = pipeline_run.get_context()"
   ]
  },
  {
   "cell_type": "code",
   "execution_count": null,
   "metadata": {},
   "outputs": [],
   "source": [
    "ctx"
   ]
  },
  {
   "cell_type": "code",
   "execution_count": null,
   "metadata": {
    "tags": []
   },
   "outputs": [],
   "source": [
    "pipeline_run.wait_for_completion()"
   ]
  },
  {
   "source": [
    "# create dataset using REST \n",
    "\n",
    "```\n",
    "https://<your-workspace-region>.experiments.azureml.net/dataset/v1.0/subscriptions/<your-subscription-id>/resourceGroups/<your-resource-group-name>/providers/Microsoft.MachineLearningServices/workspaces/<your-workspace-name>/saveddatasets/from-data-path\n",
    "```"
   ],
   "cell_type": "markdown",
   "metadata": {}
  },
  {
   "cell_type": "code",
   "execution_count": null,
   "metadata": {},
   "outputs": [],
   "source": [
    "workspaceregion = 'australiaeast'\n",
    "subscriptionid = '907c8efc-c2c8-4c49-a4e1-aeb880e10c88'\n",
    "resourcegroupname = 'aml'\n",
    "workspacename = 'magaml'\n",
    "datastorename = 'godzilla'\n",
    "relativepath = 'images/2020/07/28'\n",
    "header = {'Authorization': 'Bearer ' + auth_resp_dict['access_token']}\n",
    "dataset_body = {\n",
    "    'DatastoreName': f'{datastorename}',\n",
    "    'RelativePath': f'{relativepath}'}\n",
    "\n",
    "create_dataset_rest = f'https://{workspaceregion}.experiments.azureml.net/dataset/v1.0/subscriptions/{subscriptionid}/resourceGroups/{resourcegroupname}/providers/Microsoft.MachineLearningServices/workspaces/{workspacename}/saveddatasets/from-data-path'"
   ]
  },
  {
   "cell_type": "code",
   "execution_count": null,
   "metadata": {},
   "outputs": [],
   "source": [
    "dataset_rest_response = requests.post(create_dataset_rest,\n",
    "                         headers=header,\n",
    "                         json=dataset_body)"
   ]
  },
  {
   "cell_type": "code",
   "execution_count": null,
   "metadata": {},
   "outputs": [],
   "source": [
    "dataset_resp_dict = json.loads(dataset_rest_response.content)"
   ]
  },
  {
   "cell_type": "code",
   "execution_count": null,
   "metadata": {},
   "outputs": [],
   "source": [
    "json.loads(dataset_resp_dict['dataflowJson'])"
   ]
  },
  {
   "cell_type": "code",
   "execution_count": null,
   "metadata": {},
   "outputs": [],
   "source": [
    "dataset_resp_o = json.loads(dataset_resp_dict['dataflowJson'], object_hook = lambda d: namedtuple('X', d.keys())(*d.values()))"
   ]
  },
  {
   "cell_type": "code",
   "execution_count": null,
   "metadata": {},
   "outputs": [],
   "source": [
    "saved_dataset_id = dataset_resp_o.meta.savedDatasetId"
   ]
  },
  {
   "cell_type": "code",
   "execution_count": null,
   "metadata": {},
   "outputs": [],
   "source": []
  }
 ]
}