{
 "metadata": {
  "language_info": {
   "codemirror_mode": {
    "name": "ipython",
    "version": 3
   },
   "file_extension": ".py",
   "mimetype": "text/x-python",
   "name": "python",
   "nbconvert_exporter": "python",
   "pygments_lexer": "ipython3",
   "version": 3
  },
  "orig_nbformat": 2,
  "kernelspec": {
   "name": "python_defaultSpec_1596501628831",
   "display_name": "Python 3.8.3 64-bit"
  }
 },
 "nbformat": 4,
 "nbformat_minor": 2,
 "cells": [
  {
   "cell_type": "code",
   "execution_count": 9,
   "metadata": {},
   "outputs": [],
   "source": [
    "import requests\n",
    "import json\n",
    "from collections import namedtuple \n",
    "import configparser"
   ]
  },
  {
   "cell_type": "code",
   "execution_count": 10,
   "metadata": {},
   "outputs": [],
   "source": [
    "config = configparser.ConfigParser()\n",
    "config.read('.azureml/secrets.ini')\n",
    "\n",
    "tenant_id = config['service_principal']['tenant_id']\n",
    "client_id = config['service_principal']['client_id']\n",
    "client_secret = config['service_principal']['svc_pr_password']\n",
    "auth_request_url = f'https://login.microsoftonline.com/{tenant_id}/oauth2/token'\n",
    "auth_request_data = f'grant_type=client_credentials&resource=https%3A%2F%2Fmanagement.azure.com%2F&client_id={client_id}&client_secret={client_secret}'\n",
    "\n",
    "\n",
    "workspaceregion = 'australiaeast'\n",
    "subscriptionid = config['service_principal']['subscriptionid']\n",
    "resourcegroupname = config['aml']['resourcegroupname']\n",
    "workspacename = config['aml']['workspacename']\n",
    "datastorename = config['aml']['datastorename']\n",
    "\n",
    "\n",
    "relativepath = 'images/2020/07/28'\n",
    "dataset_body = {\n",
    "    'DatastoreName': f'{datastorename}',\n",
    "    'RelativePath': f'{relativepath}'}\n",
    "\n",
    "\n",
    "create_dataset_rest = f'https://{workspaceregion}.experiments.azureml.net/dataset/v1.0/subscriptions/{subscriptionid}/resourceGroups/{resourcegroupname}/providers/Microsoft.MachineLearningServices/workspaces/{workspacename}/saveddatasets/from-data-path'\n",
    "\n",
    "pipeline_endpoint = config['aml']['pipeline_endpoint']"
   ]
  },
  {
   "cell_type": "code",
   "execution_count": 11,
   "metadata": {},
   "outputs": [],
   "source": [
    "\n",
    "auth_response = requests.post(auth_request_url,data=auth_request_data)\n",
    "auth_resp_dict = json.loads(auth_response.content)\n",
    "auth_header = {'Authorization': 'Bearer ' + auth_resp_dict['access_token']}\n"
   ]
  },
  {
   "source": [
    "# create dataset using REST \n",
    "\n",
    "```\n",
    "https://<your-workspace-region>.experiments.azureml.net/dataset/v1.0/subscriptions/<your-subscription-id>/resourceGroups/<your-resource-group-name>/providers/Microsoft.MachineLearningServices/workspaces/<your-workspace-name>/saveddatasets/from-data-path\n",
    "```"
   ],
   "cell_type": "markdown",
   "metadata": {}
  },
  {
   "cell_type": "code",
   "execution_count": 12,
   "metadata": {
    "tags": []
   },
   "outputs": [
    {
     "output_type": "execute_result",
     "data": {
      "text/plain": "{'savedDatasetId': '69bfe260-7f14-4de7-a33b-7bf894858e4c',\n 'datasetType': 'file',\n 'subscriptionId': '907c8efc-c2c8-4c49-a4e1-aeb880e10c88',\n 'workspaceId': 'c744e648-3d1a-4b53-9b48-f8dc50fd0d3f',\n 'workspaceLocation': 'australiaeast'}"
     },
     "metadata": {},
     "execution_count": 12
    }
   ],
   "source": [
    "dataset_rest_response = requests.post(create_dataset_rest,\n",
    "                         headers=auth_header,\n",
    "                         json=dataset_body)\n",
    "dataset_resp_dict = json.loads(dataset_rest_response.content)\n",
    "dataset_resp_o = json.loads(dataset_resp_dict['dataflowJson'], object_hook = lambda d: namedtuple('X', d.keys())(*d.values()))\n",
    "saved_dataset_id = dataset_resp_o.meta.savedDatasetId\n",
    "\n",
    "json.loads(dataset_resp_dict['dataflowJson'])['meta']"
   ]
  },
  {
   "cell_type": "code",
   "execution_count": 13,
   "metadata": {
    "tags": []
   },
   "outputs": [
    {
     "output_type": "execute_result",
     "data": {
      "text/plain": "{'id': '69bfe260-7f14-4de7-a33b-7bf894858e4c',\n 'datasetType': 'file',\n 'properties': {},\n 'dataflowJson': '{\\n  \"blocks\": [\\n    {\\n      \"id\": \"a81cd1d3-517e-4501-87e6-c2d184d6d833\",\\n      \"type\": \"Microsoft.DPrep.GetDatastoreFilesBlock\",\\n      \"arguments\": {\\n        \"datastores\": [\\n          {\\n            \"datastoreName\": \"godzilla\",\\n            \"path\": \"images/2020/07/28\",\\n            \"resourceGroup\": \"aml\",\\n            \"subscription\": \"907c8efc-c2c8-4c49-a4e1-aeb880e10c88\",\\n            \"workspaceName\": \"magaml\"\\n          }\\n        ]\\n      },\\n      \"localData\": {},\\n      \"isEnabled\": true,\\n      \"name\": null,\\n      \"annotation\": null\\n    }\\n  ],\\n  \"inspectors\": [],\\n  \"meta\": {\\n    \"savedDatasetId\": \"69bfe260-7f14-4de7-a33b-7bf894858e4c\",\\n    \"datasetType\": \"file\",\\n    \"subscriptionId\": \"907c8efc-c2c8-4c49-a4e1-aeb880e10c88\",\\n    \"workspaceId\": \"c744e648-3d1a-4b53-9b48-f8dc50fd0d3f\",\\n    \"workspaceLocation\": \"australiaeast\"\\n  }\\n}',\n 'dataChanged': None,\n 'dataPath': {'datastoreName': 'godzilla',\n  'relativePath': 'images/2020/07/28',\n  'azureFilePath': None,\n  'paths': None,\n  'sqlDataPath': None,\n  'httpUrl': None,\n  'additionalProperties': None,\n  'partitionFormat': None,\n  'partitionFormatIgnoreError': False},\n 'telemetryInfo': None}"
     },
     "metadata": {},
     "execution_count": 13
    }
   ],
   "source": [
    "dataset_resp_dict"
   ]
  },
  {
   "cell_type": "code",
   "execution_count": 14,
   "metadata": {
    "tags": []
   },
   "outputs": [
    {
     "output_type": "stream",
     "name": "stdout",
     "text": "69bfe260-7f14-4de7-a33b-7bf894858e4c\n"
    }
   ],
   "source": [
    "print(saved_dataset_id)"
   ]
  },
  {
   "source": [
    "# call pipeline with saved_dataset_id\n",
    "\n",
    "Must use `DataSetDefinitionValueAssignments`  to pass in a dataset as a pipeline parameter.\n"
   ],
   "cell_type": "markdown",
   "metadata": {}
  },
  {
   "cell_type": "code",
   "execution_count": 15,
   "metadata": {},
   "outputs": [
    {
     "output_type": "execute_result",
     "data": {
      "text/plain": "'https://australiaeast.api.azureml.ms/pipelines/v1.0/subscriptions/907c8efc-c2c8-4c49-a4e1-aeb880e10c88/resourceGroups/aml/providers/Microsoft.MachineLearningServices/workspaces/magaml/PipelineRuns/PipelineSubmit/0cae7283-36d6-4b77-84d3-7a38f9c2a0a5'"
     },
     "metadata": {},
     "execution_count": 15
    }
   ],
   "source": [
    "pipeline_endpoint"
   ]
  },
  {
   "cell_type": "code",
   "execution_count": 18,
   "metadata": {},
   "outputs": [],
   "source": [
    "\n",
    "response = requests.post(pipeline_endpoint,\n",
    "                         headers=auth_header,\n",
    "                         json={'ExperimentName': 'BatchScoringPipelineExp-datasetinput',\n",
    "                               'ParameterAssignments': {\n",
    "                                   'pipeline_inpart': 'partition1',\n",
    "                                    'pipeline_kv_customimg': '123',\n",
    "                                    'pipeline_kv_readapi': '342'},\n",
    "                                'DataSetDefinitionValueAssignments': {\n",
    "                                    'pipeline_dataset_id': {\n",
    "                                        'SavedDataSetReference': {'Id': saved_dataset_id}}}})"
   ]
  },
  {
   "cell_type": "code",
   "execution_count": 19,
   "metadata": {},
   "outputs": [
    {
     "output_type": "execute_result",
     "data": {
      "text/plain": "{'Description': None,\n 'Status': {'StatusCode': 0,\n  'StatusDetail': None,\n  'CreationTime': '2020-08-04T01:06:39.2244314Z',\n  'EndTime': None},\n 'GraphId': '1f47a4e3-30b0-46da-a39d-ed8dd5afaca4',\n 'IsSubmitted': False,\n 'HasErrors': False,\n 'HasWarnings': False,\n 'UploadState': 0,\n 'ParameterAssignments': {'pipeline_inpart': 'partition1',\n  'pipeline_kv_customimg': '123',\n  'pipeline_kv_readapi': '342'},\n 'DataPathAssignments': {},\n 'DataSetDefinitionValueAssignments': {'pipeline_dataset_id': {'LiteralValue': None,\n   'DataSetReference': None,\n   'SavedDataSetReference': {'Id': '69bfe260-7f14-4de7-a33b-7bf894858e4c'}}},\n 'RunHistoryExperimentName': 'BatchScoringPipelineExp-datasetinput',\n 'PipelineId': '0cae7283-36d6-4b77-84d3-7a38f9c2a0a5',\n 'RunSource': 'Unavailable',\n 'RunType': 0,\n 'TotalRunSteps': 1,\n 'ScheduleId': None,\n 'RunUrl': 'https://ml.azure.com/experiments/BatchScoringPipelineExp-datasetinput/runs/c56bf521-1595-46fd-9695-3994258d4ee3?tid=72f988bf-86f1-41af-91ab-2d7cd011db47&wsid=/subscriptions/907c8efc-c2c8-4c49-a4e1-aeb880e10c88/resourcegroups/aml/workspaces/magaml',\n 'tags': {},\n 'StepTags': {},\n 'Properties': {},\n 'StepProperties': {},\n 'CreatedBy': {'UserObjectId': 'd82fa8db-df2b-4a62-a4d8-6f010546e85d',\n  'UserTenantId': '72f988bf-86f1-41af-91ab-2d7cd011db47',\n  'UserName': '86a53f45-d011-4ba4-8679-ed3a32d4add1'},\n 'EntityStatus': 0,\n 'Id': 'c56bf521-1595-46fd-9695-3994258d4ee3',\n 'Etag': '\"00009d0b-0000-1a00-0000-5f28b49f0000\"',\n 'CreatedDate': '2020-08-04T01:06:39.2251779Z',\n 'LastModifiedDate': '2020-08-04T01:06:39.2251779Z'}"
     },
     "metadata": {},
     "execution_count": 19
    }
   ],
   "source": [
    "json.loads(response.content)"
   ]
  },
  {
   "cell_type": "code",
   "execution_count": null,
   "metadata": {},
   "outputs": [],
   "source": []
  }
 ]
}