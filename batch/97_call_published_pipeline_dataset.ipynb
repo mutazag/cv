{
 "metadata": {
  "language_info": {
   "codemirror_mode": {
    "name": "ipython",
    "version": 3
   },
   "file_extension": ".py",
   "mimetype": "text/x-python",
   "name": "python",
   "nbconvert_exporter": "python",
   "pygments_lexer": "ipython3",
   "version": 3
  },
  "orig_nbformat": 2,
  "kernelspec": {
   "name": "python_defaultSpec_1596669094569",
   "display_name": "Python 3.8.3 64-bit"
  }
 },
 "nbformat": 4,
 "nbformat_minor": 2,
 "cells": [
  {
   "cell_type": "markdown",
   "metadata": {},
   "source": [
    "# Call a published pipeline\n",
    "\n",
    "\n",
    "The process is to: \n",
    "\n",
    "1. authenticate and get a token\n",
    "1. create a dataset using dataset REST api that points to the location of files to be processed\n",
    "2. call the pipeline REST api and pass in the dataset id in the `DataSetDefinitionValueAssignments` with pipeline parameter name as key\n",
    "3. poll the pipeline run status api until pipeline completes"
   ]
  },
  {
   "cell_type": "code",
   "execution_count": 69,
   "metadata": {},
   "outputs": [],
   "source": [
    "import requests\n",
    "import json\n",
    "from collections import namedtuple \n",
    "import configparser\n",
    "import time"
   ]
  },
  {
   "cell_type": "code",
   "execution_count": 45,
   "metadata": {},
   "outputs": [],
   "source": [
    "config = configparser.ConfigParser()\n",
    "config.read('.azureml/secrets.ini')\n",
    "\n",
    "tenant_id = config['service_principal']['tenant_id']\n",
    "client_id = config['service_principal']['client_id']\n",
    "client_secret = config['service_principal']['svc_pr_password']\n",
    "auth_request_url = f'https://login.microsoftonline.com/{tenant_id}/oauth2/token'\n",
    "auth_request_data = f'grant_type=client_credentials&resource=https%3A%2F%2Fmanagement.azure.com%2F&client_id={client_id}&client_secret={client_secret}'\n",
    "\n",
    "\n",
    "workspaceregion = 'australiaeast'\n",
    "subscriptionid = config['service_principal']['subscriptionid']\n",
    "resourcegroupname = config['aml']['resourcegroupname']\n",
    "workspacename = config['aml']['workspacename']\n",
    "datastorename = config['aml']['datastorename']\n",
    "\n",
    "\n",
    "relativepath = 'images/2020/07/28'\n",
    "dataset_body = {\n",
    "    'DatastoreName': f'{datastorename}',\n",
    "    'RelativePath': f'{relativepath}'}\n",
    "\n",
    "\n",
    "create_dataset_rest = f'https://{workspaceregion}.experiments.azureml.net/dataset/v1.0/subscriptions/{subscriptionid}/resourceGroups/{resourcegroupname}/providers/Microsoft.MachineLearningServices/workspaces/{workspacename}/saveddatasets/from-data-path'\n",
    "\n",
    "pipeline_endpoint = config['aml']['pipeline_endpoint']"
   ]
  },
  {
   "cell_type": "markdown",
   "metadata": {},
   "source": [
    "## authenticate and get a token"
   ]
  },
  {
   "cell_type": "code",
   "execution_count": 46,
   "metadata": {},
   "outputs": [],
   "source": [
    "\n",
    "auth_response = requests.post(auth_request_url,data=auth_request_data)\n",
    "auth_resp_dict = json.loads(auth_response.content)\n",
    "auth_header = {'Authorization': 'Bearer ' + auth_resp_dict['access_token']}\n"
   ]
  },
  {
   "source": [
    "## create dataset using REST \n",
    "\n",
    "```\n",
    "https://<your-workspace-region>.experiments.azureml.net/dataset/v1.0/subscriptions/<your-subscription-id>/resourceGroups/<your-resource-group-name>/providers/Microsoft.MachineLearningServices/workspaces/<your-workspace-name>/saveddatasets/from-data-path\n",
    "```"
   ],
   "cell_type": "markdown",
   "metadata": {}
  },
  {
   "cell_type": "code",
   "execution_count": 47,
   "metadata": {
    "tags": []
   },
   "outputs": [
    {
     "output_type": "execute_result",
     "data": {
      "text/plain": "{'savedDatasetId': '69bfe260-7f14-4de7-a33b-7bf894858e4c',\n 'datasetType': 'file',\n 'subscriptionId': '907c8efc-c2c8-4c49-a4e1-aeb880e10c88',\n 'workspaceId': 'c744e648-3d1a-4b53-9b48-f8dc50fd0d3f',\n 'workspaceLocation': 'australiaeast'}"
     },
     "metadata": {},
     "execution_count": 47
    }
   ],
   "source": [
    "dataset_rest_response = requests.post(create_dataset_rest,\n",
    "                         headers=auth_header,\n",
    "                         json=dataset_body)\n",
    "dataset_resp_dict = json.loads(dataset_rest_response.content)\n",
    "dataset_resp_o = json.loads(dataset_resp_dict['dataflowJson'], object_hook = lambda d: namedtuple('X', d.keys())(*d.values()))\n",
    "saved_dataset_id = dataset_resp_o.meta.savedDatasetId\n",
    "\n",
    "json.loads(dataset_resp_dict['dataflowJson'])['meta']"
   ]
  },
  {
   "cell_type": "code",
   "execution_count": 48,
   "metadata": {
    "tags": []
   },
   "outputs": [
    {
     "output_type": "execute_result",
     "data": {
      "text/plain": "{'id': '69bfe260-7f14-4de7-a33b-7bf894858e4c',\n 'datasetType': 'file',\n 'properties': {},\n 'dataflowJson': '{\\n  \"blocks\": [\\n    {\\n      \"id\": \"558e7bdf-7d66-455a-8bd4-6a8b0303f08c\",\\n      \"type\": \"Microsoft.DPrep.GetDatastoreFilesBlock\",\\n      \"arguments\": {\\n        \"datastores\": [\\n          {\\n            \"datastoreName\": \"godzilla\",\\n            \"path\": \"images/2020/07/28\",\\n            \"resourceGroup\": \"aml\",\\n            \"subscription\": \"907c8efc-c2c8-4c49-a4e1-aeb880e10c88\",\\n            \"workspaceName\": \"magaml\"\\n          }\\n        ]\\n      },\\n      \"localData\": {},\\n      \"isEnabled\": true,\\n      \"name\": null,\\n      \"annotation\": null\\n    }\\n  ],\\n  \"inspectors\": [],\\n  \"meta\": {\\n    \"savedDatasetId\": \"69bfe260-7f14-4de7-a33b-7bf894858e4c\",\\n    \"datasetType\": \"file\",\\n    \"subscriptionId\": \"907c8efc-c2c8-4c49-a4e1-aeb880e10c88\",\\n    \"workspaceId\": \"c744e648-3d1a-4b53-9b48-f8dc50fd0d3f\",\\n    \"workspaceLocation\": \"australiaeast\"\\n  }\\n}',\n 'dataChanged': None,\n 'dataPath': {'datastoreName': 'godzilla',\n  'relativePath': 'images/2020/07/28',\n  'azureFilePath': None,\n  'paths': None,\n  'sqlDataPath': None,\n  'httpUrl': None,\n  'additionalProperties': None,\n  'partitionFormat': None,\n  'partitionFormatIgnoreError': False},\n 'telemetryInfo': None}"
     },
     "metadata": {},
     "execution_count": 48
    }
   ],
   "source": [
    "dataset_resp_dict"
   ]
  },
  {
   "cell_type": "code",
   "execution_count": 49,
   "metadata": {
    "tags": []
   },
   "outputs": [
    {
     "output_type": "stream",
     "name": "stdout",
     "text": "69bfe260-7f14-4de7-a33b-7bf894858e4c\n"
    }
   ],
   "source": [
    "print(saved_dataset_id)"
   ]
  },
  {
   "source": [
    "## call pipeline with saved_dataset_id\n",
    "\n",
    "Must use `DataSetDefinitionValueAssignments`  to pass in a dataset as a pipeline parameter.\n"
   ],
   "cell_type": "markdown",
   "metadata": {}
  },
  {
   "cell_type": "code",
   "execution_count": 50,
   "metadata": {},
   "outputs": [
    {
     "output_type": "execute_result",
     "data": {
      "text/plain": "'https://australiaeast.api.azureml.ms/pipelines/v1.0/subscriptions/907c8efc-c2c8-4c49-a4e1-aeb880e10c88/resourceGroups/aml/providers/Microsoft.MachineLearningServices/workspaces/magaml/PipelineRuns/PipelineSubmit/0cae7283-36d6-4b77-84d3-7a38f9c2a0a5'"
     },
     "metadata": {},
     "execution_count": 50
    }
   ],
   "source": [
    "pipeline_endpoint"
   ]
  },
  {
   "cell_type": "code",
   "execution_count": 51,
   "metadata": {},
   "outputs": [],
   "source": [
    "\n",
    "response = requests.post(pipeline_endpoint,\n",
    "                         headers=auth_header,\n",
    "                         json={'ExperimentName': 'BatchScoringPipelineExp-datasetinput',\n",
    "                               'ParameterAssignments': {\n",
    "                                   'pipeline_inpart': 'partition1',\n",
    "                                    'pipeline_kv_customimg': '123',\n",
    "                                    'pipeline_kv_readapi': '342'},\n",
    "                                'DataSetDefinitionValueAssignments': {\n",
    "                                    'pipeline_dataset_id': {\n",
    "                                        'SavedDataSetReference': {'Id': saved_dataset_id}}}})"
   ]
  },
  {
   "cell_type": "code",
   "execution_count": 52,
   "metadata": {},
   "outputs": [
    {
     "output_type": "execute_result",
     "data": {
      "text/plain": "'9e7683b2-c0b1-4e36-a4f0-54544fa686bb'"
     },
     "metadata": {},
     "execution_count": 52
    }
   ],
   "source": [
    "response.json().get('Id')"
   ]
  },
  {
   "cell_type": "code",
   "execution_count": 53,
   "metadata": {},
   "outputs": [],
   "source": [
    "pipeline_run_id =  response.json().get('Id')"
   ]
  },
  {
   "cell_type": "markdown",
   "metadata": {},
   "source": [
    "## poll for pipeline run status\n",
    "\n",
    "poll to [get status](https://docs.microsoft.com/en-us/python/api/azureml-pipeline-core/azureml.pipeline.core.pipelinerun?view=azure-ml-py#get-status--)\n",
    "\n",
    "\n",
    "* NotStarted - This is a temporary state client-side Run objects are in before cloud submission\n",
    "* Running - The job started to run in the compute target.\n",
    "* Failed - The run failed. Usually the Error property on a run will provide details as to why.\n",
    "* Finished - The run completed successfully.\n",
    "* Canceled - Following cancellation request, the run is now successfully cancelled.\n"
   ]
  },
  {
   "cell_type": "code",
   "execution_count": 54,
   "metadata": {
    "tags": []
   },
   "outputs": [
    {
     "output_type": "stream",
     "name": "stdout",
     "text": "resourcegroupname: aml\nworkspacename: magaml\ndatastorename: godzilla\nexperiment_name: BatchScoringPipelineExp-datasetinput\npipeline_endpoint: https://australiaeast.api.azureml.ms/pipelines/v1.0/subscriptions/907c8efc-c2c8-4c49-a4e1-aeb880e10c88/resourceGroups/aml/providers/Microsoft.MachineLearningServices/workspaces/magaml/PipelineRuns/PipelineSubmit/0cae7283-36d6-4b77-84d3-7a38f9c2a0a5\npipeline_run: https://australiaeast.experiments.azureml.net/history/v1.0/subscriptions/{subscriptionid}/resourceGroups/{resourcegroupname}/providers/Microsoft.MachineLearningServices/workspaces/{workspacename}/experiments/{experiment}/runs/{runid}\nsubscriptionid: 907c8efc-c2c8-4c49-a4e1-aeb880e10c88\n"
    }
   ],
   "source": [
    "for k,v in config['aml'].items(): \n",
    "    print(f'{k}: {v}')"
   ]
  },
  {
   "cell_type": "code",
   "execution_count": 66,
   "metadata": {},
   "outputs": [],
   "source": [
    "pipeline_run_endpoint = config['aml']['pipeline_run']"
   ]
  },
  {
   "cell_type": "code",
   "execution_count": 67,
   "metadata": {},
   "outputs": [],
   "source": [
    "pipeline_run_endpoint = pipeline_run_endpoint.format_map({\n",
    "    'subscriptionid': config['aml']['subscriptionid'],\n",
    "    'resourcegroupname': config['aml']['resourcegroupname'],\n",
    "    'workspacename': config['aml']['workspacename'],\n",
    "    'experiment': config['aml']['experiment_name'],\n",
    "    'runid': pipeline_run_id\n",
    "})\n",
    "\n",
    "def run_get_status(pipeline_run_endpoint, auth_header): \n",
    "    return requests.get(pipeline_run_endpoint, headers=auth_header).json().get('status')"
   ]
  },
  {
   "cell_type": "code",
   "execution_count": 68,
   "metadata": {
    "tags": []
   },
   "outputs": [
    {
     "output_type": "stream",
     "name": "stdout",
     "text": "Run status Running\n"
    },
    {
     "output_type": "error",
     "ename": "NameError",
     "evalue": "name 'time' is not defined",
     "traceback": [
      "\u001b[1;31m---------------------------------------------------------------------------\u001b[0m",
      "\u001b[1;31mNameError\u001b[0m                                 Traceback (most recent call last)",
      "\u001b[1;32m<ipython-input-68-26fff10a9ed5>\u001b[0m in \u001b[0;36m<module>\u001b[1;34m\u001b[0m\n\u001b[0;32m      2\u001b[0m \u001b[1;32mwhile\u001b[0m \u001b[0mrun_status\u001b[0m \u001b[1;32mnot\u001b[0m \u001b[1;32min\u001b[0m \u001b[1;33m[\u001b[0m\u001b[1;34m'Completed'\u001b[0m\u001b[1;33m,\u001b[0m \u001b[1;34m'Finished'\u001b[0m\u001b[1;33m,\u001b[0m \u001b[1;34m'Failed'\u001b[0m\u001b[1;33m]\u001b[0m\u001b[1;33m:\u001b[0m\u001b[1;33m\u001b[0m\u001b[1;33m\u001b[0m\u001b[0m\n\u001b[0;32m      3\u001b[0m     \u001b[0mprint\u001b[0m\u001b[1;33m(\u001b[0m\u001b[1;34mf'Run status {run_status}'\u001b[0m\u001b[1;33m)\u001b[0m\u001b[1;33m\u001b[0m\u001b[1;33m\u001b[0m\u001b[0m\n\u001b[1;32m----> 4\u001b[1;33m     \u001b[0mtime\u001b[0m\u001b[1;33m.\u001b[0m\u001b[0msleep\u001b[0m\u001b[1;33m(\u001b[0m\u001b[1;36m10\u001b[0m\u001b[1;33m)\u001b[0m\u001b[1;33m\u001b[0m\u001b[1;33m\u001b[0m\u001b[0m\n\u001b[0m\u001b[0;32m      5\u001b[0m     \u001b[0mrun_status\u001b[0m \u001b[1;33m=\u001b[0m \u001b[0mrun_get_status\u001b[0m\u001b[1;33m(\u001b[0m\u001b[0mpipeline_run_endpoint\u001b[0m\u001b[1;33m,\u001b[0m \u001b[0mauth_header\u001b[0m\u001b[1;33m)\u001b[0m\u001b[1;33m\u001b[0m\u001b[1;33m\u001b[0m\u001b[0m\n\u001b[0;32m      6\u001b[0m \u001b[0mprint\u001b[0m\u001b[1;33m(\u001b[0m\u001b[1;34mf'Run complted with status code : {run_status}'\u001b[0m\u001b[1;33m)\u001b[0m\u001b[1;33m\u001b[0m\u001b[1;33m\u001b[0m\u001b[0m\n",
      "\u001b[1;31mNameError\u001b[0m: name 'time' is not defined"
     ]
    }
   ],
   "source": [
    "run_status = run_get_status(pipeline_run_endpoint, auth_header)\n",
    "while run_status not in ['Completed', 'Finished', 'Failed']: \n",
    "    print(f'Run status {run_status}')\n",
    "    time.sleep(10)\n",
    "    run_status = run_get_status(pipeline_run_endpoint, auth_header)\n",
    "print(f'Run complted with status code : {run_status}')"
   ]
  },
  {
   "cell_type": "code",
   "execution_count": 62,
   "metadata": {},
   "outputs": [
    {
     "output_type": "execute_result",
     "data": {
      "text/plain": "'https://australiaeast.experiments.azureml.net/history/v1.0/subscriptions/907c8efc-c2c8-4c49-a4e1-aeb880e10c88/resourceGroups/aml/providers/Microsoft.MachineLearningServices/workspaces/magaml/experiments/BatchScoringPipelineExp-datasetinput/runs/32b5ce12-0344-4e5e-b644-1d6a81581efd'"
     },
     "metadata": {},
     "execution_count": 62
    }
   ],
   "source": [
    "pipeline_run_endpoint"
   ]
  },
  {
   "cell_type": "code",
   "execution_count": 61,
   "metadata": {},
   "outputs": [
    {
     "output_type": "execute_result",
     "data": {
      "text/plain": "{'runNumber': 9,\n 'rootRunId': '32b5ce12-0344-4e5e-b644-1d6a81581efd',\n 'experimentId': '537f7c81-7878-4e1b-b5ad-09179b5e0055',\n 'createdUtc': '2020-08-04T03:41:25.4124854+00:00',\n 'createdBy': {'userObjectId': 'd82fa8db-df2b-4a62-a4d8-6f010546e85d',\n  'userPuId': None,\n  'userIdp': 'https://sts.windows.net/72f988bf-86f1-41af-91ab-2d7cd011db47/',\n  'userAltSecId': None,\n  'userIss': 'https://sts.windows.net/72f988bf-86f1-41af-91ab-2d7cd011db47/',\n  'userTenantId': '72f988bf-86f1-41af-91ab-2d7cd011db47',\n  'userName': '86a53f45-d011-4ba4-8679-ed3a32d4add1'},\n 'userId': 'd82fa8db-df2b-4a62-a4d8-6f010546e85d',\n 'token': None,\n 'tokenExpiryTimeUtc': None,\n 'error': None,\n 'warnings': None,\n 'revision': 4,\n 'runUuid': '58fa3166-12b5-48b1-8679-cb5fff8124d8',\n 'parentRunUuid': None,\n 'rootRunUuid': '58fa3166-12b5-48b1-8679-cb5fff8124d8',\n 'runId': '32b5ce12-0344-4e5e-b644-1d6a81581efd',\n 'parentRunId': None,\n 'status': 'Completed',\n 'startTimeUtc': '2020-08-04T03:41:27.4785361+00:00',\n 'endTimeUtc': '2020-08-04T03:53:15.7698039+00:00',\n 'options': {'generateDataContainerIdIfNotSpecified': True},\n 'name': None,\n 'dataContainerId': 'dcid.32b5ce12-0344-4e5e-b644-1d6a81581efd',\n 'description': None,\n 'hidden': False,\n 'runType': 'azureml.PipelineRun',\n 'properties': {'azureml.runsource': 'azureml.PipelineRun',\n  'runSource': 'Unavailable',\n  'runType': 'HTTP',\n  'azureml.parameters': '{\"pipeline_inpart\":\"partition1\",\"pipeline_kv_customimg\":\"123\",\"pipeline_kv_readapi\":\"342\"}',\n  'azureml.pipelineid': '0cae7283-36d6-4b77-84d3-7a38f9c2a0a5'},\n 'scriptName': None,\n 'target': None,\n 'uniqueChildRunComputeTargets': ['aml-compute1'],\n 'tags': {'azureml.pipelineid': '0cae7283-36d6-4b77-84d3-7a38f9c2a0a5',\n  'azureml.pipelineComponent': 'pipelinerun'},\n 'inputDatasets': [],\n 'outputDatasets': None,\n 'runDefinition': None,\n 'createdFrom': None,\n 'cancelUri': 'https://australiaeast.api.azureml.ms/pipelines/v1.0/subscriptions/907c8efc-c2c8-4c49-a4e1-aeb880e10c88/resourceGroups/aml/providers/Microsoft.MachineLearningServices/workspaces/magaml/PipelineRuns/32b5ce12-0344-4e5e-b644-1d6a81581efd/Cancel',\n 'completeUri': None,\n 'diagnosticsUri': None,\n 'computeRequest': None,\n 'retainForLifetimeOfWorkspace': False,\n 'queueingInfo': None}"
     },
     "metadata": {},
     "execution_count": 61
    }
   ],
   "source": [
    "requests.get(pipeline_run_endpoint, headers=auth_header).json()"
   ]
  },
  {
   "cell_type": "code",
   "execution_count": null,
   "metadata": {},
   "outputs": [],
   "source": []
  }
 ]
}