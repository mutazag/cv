{
 "metadata": {
  "language_info": {
   "codemirror_mode": {
    "name": "ipython",
    "version": 3
   },
   "file_extension": ".py",
   "mimetype": "text/x-python",
   "name": "python",
   "nbconvert_exporter": "python",
   "pygments_lexer": "ipython3",
   "version": 3
  },
  "orig_nbformat": 2,
  "kernelspec": {
   "name": "python_defaultSpec_1596063283320",
   "display_name": "Python 3.8.3 64-bit"
  }
 },
 "nbformat": 4,
 "nbformat_minor": 2,
 "cells": [
  {
   "cell_type": "code",
   "execution_count": 10,
   "metadata": {
    "tags": []
   },
   "outputs": [
    {
     "output_type": "stream",
     "name": "stdout",
     "text": "1.10.0\n"
    }
   ],
   "source": [
    "import json\n",
    "import azureml.core\n",
    "from azureml.core import Workspace, Datastore, Dataset, Environment, Experiment\n",
    "from azureml.data import FileDataset\n",
    "from azureml.pipeline.core import Pipeline, PipelineData, PipelineParameter, PipelineRun\n",
    "from azureml.core.compute import ComputeTarget, AmlCompute\n",
    "\n",
    "\n",
    "print(azureml.core.VERSION)\n",
    "version = dict(zip(['major','minor','patch'], azureml.core.VERSION.split('.')))\n",
    "ws = Workspace.from_config()"
   ]
  },
  {
   "cell_type": "code",
   "execution_count": 6,
   "metadata": {},
   "outputs": [
    {
     "output_type": "execute_result",
     "data": {
      "text/plain": "['price_predict', 'batch_scoring', 'MAG-batch-score1']"
     },
     "metadata": {},
     "execution_count": 6
    }
   ],
   "source": [
    "[e for e in  ws.experiments]"
   ]
  },
  {
   "cell_type": "code",
   "execution_count": 7,
   "metadata": {},
   "outputs": [],
   "source": [
    "exp = ws.experiments['MAG-batch-score1']"
   ]
  },
  {
   "cell_type": "code",
   "execution_count": 9,
   "metadata": {},
   "outputs": [
    {
     "output_type": "execute_result",
     "data": {
      "text/plain": "[Run(Experiment: MAG-batch-score1,\n Id: 5afc88dc-e744-4a26-bdf9-f73cc40f97f0,\n Type: azureml.PipelineRun,\n Status: Completed),\n Run(Experiment: MAG-batch-score1,\n Id: 9ba8771d-c0de-4e61-b2f5-3c98e304c089,\n Type: azureml.PipelineRun,\n Status: Completed),\n Run(Experiment: MAG-batch-score1,\n Id: af9c71f4-76de-4b23-962b-91ddfac4f9ed,\n Type: azureml.PipelineRun,\n Status: Completed)]"
     },
     "metadata": {},
     "execution_count": 9
    }
   ],
   "source": [
    "[r for r in exp.get_runs()]"
   ]
  },
  {
   "cell_type": "code",
   "execution_count": 13,
   "metadata": {},
   "outputs": [],
   "source": [
    "pipeline_run = PipelineRun(experiment=exp, run_id='5afc88dc-e744-4a26-bdf9-f73cc40f97f0')\n",
    "published_pipeline = pipeline_run.publish_pipeline(\n",
    "    name='MAG-batchscore-publishedpipeline1', \n",
    "    description='First Published Pipelie 9.30am', \n",
    "    version='1.0', \n",
    "    continue_on_step_failure=True)"
   ]
  },
  {
   "cell_type": "code",
   "execution_count": 16,
   "metadata": {},
   "outputs": [
    {
     "output_type": "execute_result",
     "data": {
      "text/plain": "'https://australiaeast.api.azureml.ms/pipelines/v1.0/subscriptions/907c8efc-c2c8-4c49-a4e1-aeb880e10c88/resourceGroups/aml/providers/Microsoft.MachineLearningServices/workspaces/magaml/PipelineRuns/PipelineSubmit/6b8e8468-6eee-442f-8eb7-c20347b64be0'"
     },
     "metadata": {},
     "execution_count": 16
    }
   ],
   "source": [
    "published_pipeline.endpoint"
   ]
  },
  {
   "cell_type": "code",
   "execution_count": null,
   "metadata": {},
   "outputs": [],
   "source": []
  }
 ]
}