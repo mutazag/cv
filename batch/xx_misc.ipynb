{
 "metadata": {
  "language_info": {
   "codemirror_mode": {
    "name": "ipython",
    "version": 3
   },
   "file_extension": ".py",
   "mimetype": "text/x-python",
   "name": "python",
   "nbconvert_exporter": "python",
   "pygments_lexer": "ipython3",
   "version": 3
  },
  "orig_nbformat": 2,
  "kernelspec": {
   "name": "python_defaultSpec_1596149158810",
   "display_name": "Python 3.8.3 64-bit"
  }
 },
 "nbformat": 4,
 "nbformat_minor": 2,
 "cells": [
  {
   "cell_type": "code",
   "execution_count": 2,
   "metadata": {
    "tags": []
   },
   "outputs": [
    {
     "output_type": "stream",
     "name": "stdout",
     "text": "1.10.0\n"
    }
   ],
   "source": [
    "import json\n",
    "import azureml.core\n",
    "from azureml.core import Workspace, Datastore, Dataset, Environment, Experiment\n",
    "from azureml.data import FileDataset\n",
    "from azureml.data.dataset_consumption_config import DatasetConsumptionConfig\n",
    "from azureml.pipeline.core import Pipeline, PipelineData, PipelineParameter\n",
    "from azureml.core.compute import ComputeTarget, AmlCompute\n",
    "\n",
    "\n",
    "print(azureml.core.VERSION)\n",
    "version = dict(zip(['major','minor','patch'], azureml.core.VERSION.split('.')))\n",
    "ws = Workspace.from_config()"
   ]
  },
  {
   "cell_type": "code",
   "execution_count": 8,
   "metadata": {},
   "outputs": [
    {
     "output_type": "execute_result",
     "data": {
      "text/plain": "['/20200601_213247.jpg', '/T4636_2.jpg']"
     },
     "metadata": {},
     "execution_count": 8
    }
   ],
   "source": [
    "dataset_id = '69bfe260-7f14-4de7-a33b-7bf894858e4c'\n",
    "\n",
    "datastore_o = ws.datastores['godzilla']\n",
    "\n",
    "dataset_o = Dataset.get_by_id(workspace=ws, id=dataset_id)\n",
    "\n",
    "dataset_o.to_path()\n"
   ]
  },
  {
   "cell_type": "code",
   "execution_count": null,
   "metadata": {},
   "outputs": [],
   "source": []
  },
  {
   "cell_type": "code",
   "execution_count": 19,
   "metadata": {},
   "outputs": [
    {
     "output_type": "execute_result",
     "data": {
      "text/plain": "{\n  \"source\": [\n    \"('godzilla', 'images/2020/07/28')\"\n  ],\n  \"definition\": [\n    \"GetDatastoreFiles\"\n  ],\n  \"registration\": {\n    \"id\": \"69bfe260-7f14-4de7-a33b-7bf894858e4c\",\n    \"name\": null,\n    \"version\": null,\n    \"workspace\": \"Workspace.create(name='magaml', subscription_id='907c8efc-c2c8-4c49-a4e1-aeb880e10c88', resource_group='aml')\"\n  }\n}"
     },
     "metadata": {},
     "execution_count": 19
    }
   ],
   "source": [
    "dsconfig = DatasetConsumptionConfig('ds_config',dataset_o).as_mount()\n",
    "dsconfig.dataset"
   ]
  },
  {
   "cell_type": "code",
   "execution_count": 14,
   "metadata": {},
   "outputs": [],
   "source": [
    "dsconfig1 = DatasetConsumptionConfig('ds_config1', dataset_id).as_mount()"
   ]
  },
  {
   "cell_type": "code",
   "execution_count": 18,
   "metadata": {
    "tags": []
   },
   "outputs": [
    {
     "output_type": "execute_result",
     "data": {
      "text/plain": "'69bfe260-7f14-4de7-a33b-7bf894858e4c'"
     },
     "metadata": {},
     "execution_count": 18
    }
   ],
   "source": [
    "dsconfig1.dataset"
   ]
  },
  {
   "cell_type": "code",
   "execution_count": 20,
   "metadata": {},
   "outputs": [],
   "source": [
    "dataset_dict = {'id': '69bfe260-7f14-4de7-a33b-7bf894858e4c',\n",
    " 'datasetType': 'file',\n",
    " 'properties': {},\n",
    " 'dataflowJson': '{\\n  \"blocks\": [\\n    {\\n      \"id\": \"23973e73-4ddc-466b-b35b-e6c5b6311b87\",\\n      \"type\": \"Microsoft.DPrep.GetDatastoreFilesBlock\",\\n      \"arguments\": {\\n        \"datastores\": [\\n          {\\n            \"datastoreName\": \"godzilla\",\\n            \"path\": \"images/2020/07/28\",\\n            \"resourceGroup\": \"aml\",\\n            \"subscription\": \"907c8efc-c2c8-4c49-a4e1-aeb880e10c88\",\\n            \"workspaceName\": \"magaml\"\\n          }\\n        ]\\n      },\\n      \"localData\": {},\\n      \"isEnabled\": true,\\n      \"name\": null,\\n      \"annotation\": null\\n    }\\n  ],\\n  \"inspectors\": [],\\n  \"meta\": {\\n    \"savedDatasetId\": \"69bfe260-7f14-4de7-a33b-7bf894858e4c\",\\n    \"datasetType\": \"file\",\\n    \"subscriptionId\": \"907c8efc-c2c8-4c49-a4e1-aeb880e10c88\",\\n    \"workspaceId\": \"c744e648-3d1a-4b53-9b48-f8dc50fd0d3f\",\\n    \"workspaceLocation\": \"australiaeast\"\\n  }\\n}',\n",
    " 'dataChanged': None,\n",
    " 'dataPath': {'datastoreName': 'godzilla',\n",
    "  'relativePath': 'images/2020/07/28',\n",
    "  'azureFilePath': None,\n",
    "  'paths': None,\n",
    "  'sqlDataPath': None,\n",
    "  'httpUrl': None,\n",
    "  'additionalProperties': None,\n",
    "  'partitionFormat': None,\n",
    "  'partitionFormatIgnoreError': False},\n",
    " 'telemetryInfo': None}"
   ]
  },
  {
   "cell_type": "code",
   "execution_count": 23,
   "metadata": {},
   "outputs": [],
   "source": [
    "dataset_dict['dataflowJson'] = json.loads(dataset_dict['dataflowJson'])"
   ]
  },
  {
   "cell_type": "code",
   "execution_count": 24,
   "metadata": {},
   "outputs": [
    {
     "output_type": "execute_result",
     "data": {
      "text/plain": "{'id': '69bfe260-7f14-4de7-a33b-7bf894858e4c',\n 'datasetType': 'file',\n 'properties': {},\n 'dataflowJson': {'blocks': [{'id': '23973e73-4ddc-466b-b35b-e6c5b6311b87',\n    'type': 'Microsoft.DPrep.GetDatastoreFilesBlock',\n    'arguments': {'datastores': [{'datastoreName': 'godzilla',\n       'path': 'images/2020/07/28',\n       'resourceGroup': 'aml',\n       'subscription': '907c8efc-c2c8-4c49-a4e1-aeb880e10c88',\n       'workspaceName': 'magaml'}]},\n    'localData': {},\n    'isEnabled': True,\n    'name': None,\n    'annotation': None}],\n  'inspectors': [],\n  'meta': {'savedDatasetId': '69bfe260-7f14-4de7-a33b-7bf894858e4c',\n   'datasetType': 'file',\n   'subscriptionId': '907c8efc-c2c8-4c49-a4e1-aeb880e10c88',\n   'workspaceId': 'c744e648-3d1a-4b53-9b48-f8dc50fd0d3f',\n   'workspaceLocation': 'australiaeast'}},\n 'dataChanged': None,\n 'dataPath': {'datastoreName': 'godzilla',\n  'relativePath': 'images/2020/07/28',\n  'azureFilePath': None,\n  'paths': None,\n  'sqlDataPath': None,\n  'httpUrl': None,\n  'additionalProperties': None,\n  'partitionFormat': None,\n  'partitionFormatIgnoreError': False},\n 'telemetryInfo': None}"
     },
     "metadata": {},
     "execution_count": 24
    }
   ],
   "source": [
    "dataset_dict"
   ]
  },
  {
   "cell_type": "code",
   "execution_count": 25,
   "metadata": {},
   "outputs": [
    {
     "output_type": "execute_result",
     "data": {
      "text/plain": "{\n  \"source\": [\n    \"('godzilla', 'images/2020/07/28')\"\n  ],\n  \"definition\": [\n    \"GetDatastoreFiles\"\n  ],\n  \"registration\": {\n    \"id\": \"69bfe260-7f14-4de7-a33b-7bf894858e4c\",\n    \"name\": null,\n    \"version\": null,\n    \"workspace\": \"Workspace.create(name='magaml', subscription_id='907c8efc-c2c8-4c49-a4e1-aeb880e10c88', resource_group='aml')\"\n  }\n}"
     },
     "metadata": {},
     "execution_count": 25
    }
   ],
   "source": [
    "dsconfig.dataset"
   ]
  },
  {
   "cell_type": "code",
   "execution_count": 26,
   "metadata": {},
   "outputs": [
    {
     "output_type": "execute_result",
     "data": {
      "text/plain": "['/2020/07/28/20200601_213247.jpg',\n '/2020/07/28/T4636_2.jpg',\n '/20200601_213236.jpg',\n '/20200601_213247 - Copy.jpg',\n '/20200601_213247.jpg',\n '/Cursive_Writing_on_Notebook_paper.jpg',\n '/T46336_1.jpg',\n '/T4636_2.jpg',\n '/TC31930_1.jpg',\n '/TC31930_2.jpg',\n '/YJE00U.jpg',\n '/bike.jpg',\n '/hc1427.jpg',\n '/hsv39.jpg',\n '/mcl650.jpg']"
     },
     "metadata": {},
     "execution_count": 26
    }
   ],
   "source": [
    "inputdataset_id = 'fb947391-048c-4312-aa45-cbe5ccc4d619'\n",
    "inputdataset_o = Dataset.get_by_id(workspace=ws, id=inputdataset_id)\n",
    "\n",
    "inputdataset_o.to_path()"
   ]
  },
  {
   "cell_type": "code",
   "execution_count": 27,
   "metadata": {},
   "outputs": [
    {
     "output_type": "execute_result",
     "data": {
      "text/plain": "{\n  \"source\": [\n    \"('godzilla', 'images')\"\n  ],\n  \"definition\": [\n    \"GetDatastoreFiles\"\n  ],\n  \"registration\": {\n    \"id\": \"fb947391-048c-4312-aa45-cbe5ccc4d619\",\n    \"name\": null,\n    \"version\": null,\n    \"workspace\": \"Workspace.create(name='magaml', subscription_id='907c8efc-c2c8-4c49-a4e1-aeb880e10c88', resource_group='aml')\"\n  }\n}"
     },
     "metadata": {},
     "execution_count": 27
    }
   ],
   "source": [
    "inputdataset_o"
   ]
  },
  {
   "cell_type": "code",
   "execution_count": null,
   "metadata": {},
   "outputs": [],
   "source": []
  }
 ]
}