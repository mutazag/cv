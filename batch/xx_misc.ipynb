{
 "metadata": {
  "language_info": {
   "codemirror_mode": {
    "name": "ipython",
    "version": 3
   },
   "file_extension": ".py",
   "mimetype": "text/x-python",
   "name": "python",
   "nbconvert_exporter": "python",
   "pygments_lexer": "ipython3",
   "version": 3
  },
  "orig_nbformat": 2,
  "kernelspec": {
   "name": "python_defaultSpec_1597203879620",
   "display_name": "Python 3.8.3 64-bit"
  }
 },
 "nbformat": 4,
 "nbformat_minor": 2,
 "cells": [
  {
   "cell_type": "code",
   "execution_count": 1,
   "metadata": {
    "tags": []
   },
   "outputs": [
    {
     "output_type": "stream",
     "name": "stdout",
     "text": "1.10.0\n"
    }
   ],
   "source": [
    "import json\n",
    "import azureml.core\n",
    "from azureml.core import Workspace, Datastore, Dataset, Environment, Experiment\n",
    "from azureml.data import FileDataset\n",
    "from azureml.data.dataset_consumption_config import DatasetConsumptionConfig\n",
    "from azureml.pipeline.core import Pipeline, PipelineData, PipelineParameter, PipelineRun\n",
    "from azureml.core.compute import ComputeTarget, AmlCompute\n",
    "\n",
    "\n",
    "print(azureml.core.VERSION)\n",
    "version = dict(zip(['major','minor','patch'], azureml.core.VERSION.split('.')))\n",
    "ws = Workspace.from_config()"
   ]
  },
  {
   "cell_type": "markdown",
   "metadata": {},
   "source": [
    "\n",
    "# get data set by id"
   ]
  },
  {
   "cell_type": "code",
   "execution_count": 3,
   "metadata": {},
   "outputs": [
    {
     "output_type": "execute_result",
     "data": {
      "text/plain": "{\n  \"source\": [\n    \"('godzilla', 'images/2020/08/10')\"\n  ],\n  \"definition\": [\n    \"GetDatastoreFiles\"\n  ],\n  \"registration\": {\n    \"id\": \"b3d66173-5608-41b4-b4d4-4b7bd188a2ee\",\n    \"name\": null,\n    \"version\": null,\n    \"workspace\": \"Workspace.create(name='magaml', subscription_id='907c8efc-c2c8-4c49-a4e1-aeb880e10c88', resource_group='aml')\"\n  }\n}"
     },
     "metadata": {},
     "execution_count": 3
    }
   ],
   "source": [
    "saved_id = 'b3d66173-5608-41b4-b4d4-4b7bd188a2ee'\n",
    "Dataset.get_by_id(workspace=ws, id=saved_id)"
   ]
  },
  {
   "cell_type": "markdown",
   "metadata": {},
   "source": [
    "# enumerate datastores and datasets"
   ]
  },
  {
   "cell_type": "code",
   "execution_count": 19,
   "metadata": {
    "tags": []
   },
   "outputs": [
    {
     "output_type": "stream",
     "name": "stdout",
     "text": ">>>>> datastores\n0 images_datastore\n1 azureml_globaldatasets\n2 godzilla\n3 workspacefilestore\n4 workspaceblobstore\n>>>>> datasets using datasets collection\n0 label_ds\n1 input_images\n2 anpr_images\n3 ojsalesdata\n>>>>> datasets using get_all\n0 label_ds\n1 input_images\n2 anpr_images\n3 ojsalesdata\n"
    }
   ],
   "source": [
    "print('>>>>> datastores')\n",
    "for i,ds in enumerate(ws.datastores): \n",
    "    print(i, ds)\n",
    "\n",
    "print('>>>>> datasets using datasets collection') \n",
    "for i, dataset in enumerate(ws.datasets):\n",
    "    print(i, dataset)\n",
    "\n",
    "\n",
    "print('>>>>> datasets using get_all') \n",
    "for i, dataset in enumerate(Dataset.get_all(workspace=ws)):\n",
    "    print(i, dataset)"
   ]
  },
  {
   "cell_type": "code",
   "execution_count": null,
   "metadata": {},
   "outputs": [],
   "source": [
    "print([dataset for dataset in ])"
   ]
  },
  {
   "cell_type": "code",
   "execution_count": 21,
   "metadata": {},
   "outputs": [
    {
     "output_type": "execute_result",
     "data": {
      "text/plain": "['/2020/07/28/20200601_213247.jpg',\n '/2020/07/28/T4636_2.jpg',\n '/2020/08/10/20160924_063249081_iOS.jpg',\n '/2020/08/10/20160924_063332113_iOS.jpg',\n '/2020/08/10/20160924_063342621_iOS.jpg',\n '/2020/08/10/20160924_063825264_iOS.jpg',\n '/2020/08/10/20160924_064218462_iOS.jpg',\n '/2020/08/10/20160924_064241679_iOS.jpg',\n '/2020/08/10/20160924_064251486_iOS.jpg',\n '/20200601_213236.jpg',\n '/20200601_213247 - Copy.jpg',\n '/20200601_213247.jpg',\n '/Cursive_Writing_on_Notebook_paper.jpg',\n '/T46336_1.jpg',\n '/T4636_2.jpg',\n '/TC31930_1.jpg',\n '/TC31930_2.jpg',\n '/YJE00U.jpg',\n '/bike.jpg',\n '/hc1427.jpg',\n '/hsv39.jpg',\n '/mcl650.jpg']"
     },
     "metadata": {},
     "execution_count": 21
    }
   ],
   "source": [
    "# dataset_id = '69bfe260-7f14-4de7-a33b-7bf894858e4c'\n",
    "\n",
    "datastore_o = ws.datastores['godzilla']\n",
    "\n",
    "dataset_o = Dataset.get_by_name(workspace=ws, name='anpr_images')\n",
    "\n",
    "dataset_o.to_path()\n"
   ]
  },
  {
   "cell_type": "code",
   "execution_count": 22,
   "metadata": {},
   "outputs": [
    {
     "output_type": "execute_result",
     "data": {
      "text/plain": "{\n  \"source\": [\n    \"('godzilla', 'images')\"\n  ],\n  \"definition\": [\n    \"GetDatastoreFiles\"\n  ],\n  \"registration\": {\n    \"id\": \"a89fea95-9f2e-4df4-b469-449e1c5c2286\",\n    \"name\": \"anpr_images\",\n    \"version\": 1,\n    \"workspace\": \"Workspace.create(name='magaml', subscription_id='907c8efc-c2c8-4c49-a4e1-aeb880e10c88', resource_group='aml')\"\n  }\n}"
     },
     "metadata": {},
     "execution_count": 22
    }
   ],
   "source": [
    "dsconfig = DatasetConsumptionConfig('ds_config',dataset_o).as_mount()\n",
    "dsconfig.dataset"
   ]
  },
  {
   "cell_type": "code",
   "execution_count": 25,
   "metadata": {},
   "outputs": [
    {
     "output_type": "execute_result",
     "data": {
      "text/plain": "{\n  \"source\": [\n    \"('godzilla', 'images')\"\n  ],\n  \"definition\": [\n    \"GetDatastoreFiles\"\n  ],\n  \"registration\": {\n    \"id\": \"a89fea95-9f2e-4df4-b469-449e1c5c2286\",\n    \"name\": \"anpr_images\",\n    \"version\": 1,\n    \"workspace\": \"Workspace.create(name='magaml', subscription_id='907c8efc-c2c8-4c49-a4e1-aeb880e10c88', resource_group='aml')\"\n  }\n}"
     },
     "metadata": {},
     "execution_count": 25
    }
   ],
   "source": [
    "dsconfig.dataset"
   ]
  },
  {
   "cell_type": "code",
   "execution_count": 55,
   "metadata": {},
   "outputs": [],
   "source": [
    "import pandas as pd \n",
    "import os\n",
    "import base64\n",
    "from pathlib import Path \n",
    "\n",
    "filename = dataset_o.to_path()\n",
    "\n",
    "df = pd.DataFrame({'filename': filename})\n",
    "\n",
    "df['basename'] =  df.filename.apply(lambda fn: os.path.basename(fn))\n",
    "df['dirname'] = df.filename.apply(lambda fn: os.path.dirname(fn))\n",
    "df['encoded'] = df.filename.apply(lambda fn: base64.b64encode(fn.encode()))"
   ]
  },
  {
   "cell_type": "code",
   "execution_count": 60,
   "metadata": {},
   "outputs": [],
   "source": [
    "df.query('dirname==\"/2020/08/10\"').to_csv('20200810_images.csv')"
   ]
  },
  {
   "cell_type": "code",
   "execution_count": 58,
   "metadata": {},
   "outputs": [
    {
     "output_type": "execute_result",
     "data": {
      "text/plain": "0            /2020/07/28/20200601_213247.jpg\n1                    /2020/07/28/T4636_2.jpg\n2     /2020/08/10/20160924_063249081_iOS.jpg\n3     /2020/08/10/20160924_063332113_iOS.jpg\n4     /2020/08/10/20160924_063342621_iOS.jpg\n5     /2020/08/10/20160924_063825264_iOS.jpg\n6     /2020/08/10/20160924_064218462_iOS.jpg\n7     /2020/08/10/20160924_064241679_iOS.jpg\n8     /2020/08/10/20160924_064251486_iOS.jpg\n9                       /20200601_213236.jpg\n10               /20200601_213247 - Copy.jpg\n11                      /20200601_213247.jpg\n12    /Cursive_Writing_on_Notebook_paper.jpg\n13                             /T46336_1.jpg\n14                              /T4636_2.jpg\n15                            /TC31930_1.jpg\n16                            /TC31930_2.jpg\n17                               /YJE00U.jpg\n18                                 /bike.jpg\n19                               /hc1427.jpg\n20                                /hsv39.jpg\n21                               /mcl650.jpg\nName: encoded, dtype: object"
     },
     "metadata": {},
     "execution_count": 58
    }
   ],
   "source": [
    "df.encoded.apply(lambda _: base64.b64decode(_).decode())"
   ]
  },
  {
   "cell_type": "code",
   "execution_count": null,
   "metadata": {},
   "outputs": [],
   "source": [
    "str.encode"
   ]
  },
  {
   "cell_type": "markdown",
   "metadata": {},
   "source": [
    "# pipelines"
   ]
  },
  {
   "cell_type": "code",
   "execution_count": 8,
   "metadata": {},
   "outputs": [],
   "source": [
    "exp = Experiment(workspace=ws, name='MAG-batch-paramdataset')\n"
   ]
  },
  {
   "cell_type": "code",
   "execution_count": null,
   "metadata": {},
   "outputs": [],
   "source": [
    "exp.runs"
   ]
  },
  {
   "cell_type": "code",
   "execution_count": null,
   "metadata": {},
   "outputs": [],
   "source": []
  }
 ]
}