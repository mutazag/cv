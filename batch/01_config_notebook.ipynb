{
 "metadata": {
  "language_info": {
   "codemirror_mode": {
    "name": "ipython",
    "version": 3
   },
   "file_extension": ".py",
   "mimetype": "text/x-python",
   "name": "python",
   "nbconvert_exporter": "python",
   "pygments_lexer": "ipython3",
   "version": 3
  },
  "orig_nbformat": 2,
  "kernelspec": {
   "name": "python_defaultSpec_1595995072225",
   "display_name": "Python 3.8.3 64-bit"
  }
 },
 "nbformat": 4,
 "nbformat_minor": 2,
 "cells": [
  {
   "source": [
    "# Get workspace and authenticate"
   ],
   "cell_type": "markdown",
   "metadata": {}
  },
  {
   "cell_type": "code",
   "execution_count": 4,
   "metadata": {
    "tags": []
   },
   "outputs": [
    {
     "output_type": "stream",
     "name": "stdout",
     "text": "1.10.0\n"
    }
   ],
   "source": [
    "import json\n",
    "import azureml.core\n",
    "from azureml.core import Workspace, Datastore, Dataset\n",
    "\n",
    "print(azureml.core.VERSION)"
   ]
  },
  {
   "cell_type": "code",
   "execution_count": 5,
   "metadata": {
    "tags": []
   },
   "outputs": [
    {
     "output_type": "stream",
     "name": "stdout",
     "text": "magaml 907c8efc-c2c8-4c49-a4e1-aeb880e10c88 aml\n"
    }
   ],
   "source": [
    "ws = Workspace.from_config()\n",
    "print(ws.name, ws.subscription_id, ws.resource_group)"
   ]
  },
  {
   "cell_type": "code",
   "execution_count": 6,
   "metadata": {},
   "outputs": [
    {
     "output_type": "execute_result",
     "data": {
      "text/plain": "Workspace.create(name='magaml', subscription_id='907c8efc-c2c8-4c49-a4e1-aeb880e10c88', resource_group='aml')"
     },
     "metadata": {},
     "execution_count": 6
    }
   ],
   "source": [
    "ws"
   ]
  },
  {
   "source": [
    "# query Key Vault"
   ],
   "cell_type": "markdown",
   "metadata": {}
  },
  {
   "cell_type": "code",
   "execution_count": 7,
   "metadata": {
    "tags": []
   },
   "outputs": [
    {
     "output_type": "stream",
     "name": "stdout",
     "text": "32\n"
    }
   ],
   "source": [
    "kv = ws.get_default_keyvault()\n",
    "print(len(kv.get_secret('adfserviceprincipal')))"
   ]
  },
  {
   "source": [
    "# Create a data store "
   ],
   "cell_type": "markdown",
   "metadata": {}
  },
  {
   "cell_type": "code",
   "execution_count": 8,
   "metadata": {},
   "outputs": [
    {
     "output_type": "execute_result",
     "data": {
      "text/plain": "{'images_datastore': {\n   \"name\": \"images_datastore\",\n   \"container_name\": \"sampledata\",\n   \"account_name\": \"pipelinedata\",\n   \"protocol\": \"https\",\n   \"endpoint\": \"core.windows.net\"\n },\n 'azureml_globaldatasets': {\n   \"name\": \"azureml_globaldatasets\",\n   \"container_name\": \"globaldatasets\",\n   \"account_name\": \"mmstorageaustraliaeast\",\n   \"protocol\": \"https\",\n   \"endpoint\": \"core.windows.net\"\n },\n 'godzilla': {\n   \"name\": \"godzilla\",\n   \"container_name\": \"batchml\",\n   \"account_name\": \"godzillasinastorage\",\n   \"protocol\": \"https\",\n   \"endpoint\": \"core.windows.net\"\n },\n 'workspacefilestore': {\n   \"name\": \"workspacefilestore\",\n   \"container_name\": \"azureml-filestore-c744e648-3d1a-4b53-9b48-f8dc50fd0d3f\",\n   \"account_name\": \"magaml1375920863\",\n   \"protocol\": \"https\",\n   \"endpoint\": \"core.windows.net\"\n },\n 'workspaceblobstore': {\n   \"name\": \"workspaceblobstore\",\n   \"container_name\": \"azureml-blobstore-c744e648-3d1a-4b53-9b48-f8dc50fd0d3f\",\n   \"account_name\": \"magaml1375920863\",\n   \"protocol\": \"https\",\n   \"endpoint\": \"core.windows.net\"\n }}"
     },
     "metadata": {},
     "execution_count": 8
    }
   ],
   "source": [
    "ws.datastores"
   ]
  },
  {
   "cell_type": "code",
   "execution_count": 9,
   "metadata": {
    "tags": []
   },
   "outputs": [
    {
     "output_type": "stream",
     "name": "stdout",
     "text": "<class 'dict_items'>\nimages_datastore\n<class 'azureml.data.azure_storage_datastore.AzureBlobDatastore'>\nimages_datastore\nsampledata\npipelinedata\nhttps\ncore.windows.net\nazureml_globaldatasets\n<class 'azureml.data.azure_storage_datastore.AzureBlobDatastore'>\nazureml_globaldatasets\nglobaldatasets\nmmstorageaustraliaeast\nhttps\ncore.windows.net\ngodzilla\n<class 'azureml.data.azure_storage_datastore.AzureBlobDatastore'>\ngodzilla\nbatchml\ngodzillasinastorage\nhttps\ncore.windows.net\nworkspacefilestore\n<class 'azureml.data.azure_storage_datastore.AzureFileDatastore'>\nworkspacefilestore\nazureml-filestore-c744e648-3d1a-4b53-9b48-f8dc50fd0d3f\nmagaml1375920863\nhttps\ncore.windows.net\nworkspaceblobstore\n<class 'azureml.data.azure_storage_datastore.AzureBlobDatastore'>\nworkspaceblobstore\nazureml-blobstore-c744e648-3d1a-4b53-9b48-f8dc50fd0d3f\nmagaml1375920863\nhttps\ncore.windows.net\n"
    }
   ],
   "source": [
    "print(type(ws.datastores.items()))\n",
    "\n",
    "for i,v in ws.datastores.items(): \n",
    "    print(i)\n",
    "    print(type(v))\n",
    "    print(v.name)\n",
    "    print(v.container_name)\n",
    "    print(v.account_name)\n",
    "    print(v.protocol)\n",
    "    print(v.endpoint)\n",
    "\n",
    "    "
   ]
  },
  {
   "cell_type": "code",
   "execution_count": 10,
   "metadata": {},
   "outputs": [],
   "source": [
    "datastore_name ='godzilla'\n",
    "account_name = 'godzillasinastorage'\n",
    "filesystem_name = 'batchml'"
   ]
  },
  {
   "cell_type": "code",
   "execution_count": null,
   "metadata": {},
   "outputs": [],
   "source": []
  },
  {
   "cell_type": "code",
   "execution_count": 11,
   "metadata": {},
   "outputs": [
    {
     "output_type": "execute_result",
     "data": {
      "text/plain": "{\n  \"name\": \"workspaceblobstore\",\n  \"container_name\": \"azureml-blobstore-c744e648-3d1a-4b53-9b48-f8dc50fd0d3f\",\n  \"account_name\": \"magaml1375920863\",\n  \"protocol\": \"https\",\n  \"endpoint\": \"core.windows.net\"\n}"
     },
     "metadata": {},
     "execution_count": 11
    }
   ],
   "source": [
    "Datastore.get_default(workspace=ws)"
   ]
  },
  {
   "cell_type": "code",
   "execution_count": 12,
   "metadata": {
    "tags": []
   },
   "outputs": [
    {
     "output_type": "stream",
     "name": "stdout",
     "text": "dict_keys(['clientid', 'secret', 'tenant'])\na97b40c8-f436-4941-8b81-a2db2ed8d1bf\ndict_keys(['accountname', 'key', 'container'])\n"
    }
   ],
   "source": [
    "\n",
    "serviceprincipal = json.loads( kv.get_secret('magamlworkspace'))\n",
    "print(serviceprincipal.keys())\n",
    "print(serviceprincipal['clientid'])\n",
    "\n",
    "storageaccesskey = json.loads(kv.get_secret('godzillakey'))\n",
    "print(storageaccesskey.keys())"
   ]
  },
  {
   "cell_type": "code",
   "execution_count": 13,
   "metadata": {
    "tags": []
   },
   "outputs": [],
   "source": [
    "# Datastore.register_azure_data_lake_gen2(\n",
    "#     workspace=ws,\n",
    "#     datastore_name=datastore_name,\n",
    "#     account_name=account_name, # ADLS Gen2 account name\n",
    "#     filesystem=filesystem_name, # ADLS Gen2 filesystem\n",
    "#     tenant_id=serviceprincipal['tenant'], # tenant id of service principal\n",
    "#     client_id=serviceprincipal['clientid'], # client id of service principal\n",
    "#     client_secret=serviceprincipal['secret'] # the secret of service principal\n",
    "#     )"
   ]
  },
  {
   "cell_type": "code",
   "execution_count": 14,
   "metadata": {},
   "outputs": [
    {
     "output_type": "execute_result",
     "data": {
      "text/plain": "{\n  \"name\": \"godzilla\",\n  \"container_name\": \"batchml\",\n  \"account_name\": \"godzillasinastorage\",\n  \"protocol\": \"https\",\n  \"endpoint\": \"core.windows.net\"\n}"
     },
     "metadata": {},
     "execution_count": 14
    }
   ],
   "source": [
    "Datastore.register_azure_blob_container(\n",
    "    workspace=ws, \n",
    "    datastore_name=datastore_name, \n",
    "    container_name=storageaccesskey['container'], \n",
    "    account_name=storageaccesskey['accountname'], \n",
    "    account_key=storageaccesskey['key'],\n",
    "    overwrite=True\n",
    "    )"
   ]
  },
  {
   "cell_type": "code",
   "execution_count": 15,
   "metadata": {},
   "outputs": [],
   "source": [
    "godzilla_datastore = Datastore.get(\n",
    "    workspace=ws, \n",
    "    datastore_name=datastore_name\n",
    ")"
   ]
  },
  {
   "source": [
    "# Create and Register Env\n"
   ],
   "cell_type": "markdown",
   "metadata": {}
  },
  {
   "cell_type": "code",
   "execution_count": 16,
   "metadata": {},
   "outputs": [
    {
     "output_type": "execute_result",
     "data": {
      "text/plain": "{\n    \"databricks\": {\n        \"eggLibraries\": [],\n        \"jarLibraries\": [],\n        \"mavenLibraries\": [],\n        \"pypiLibraries\": [],\n        \"rcranLibraries\": []\n    },\n    \"docker\": {\n        \"arguments\": [],\n        \"baseDockerfile\": null,\n        \"baseImage\": \"mcr.microsoft.com/azureml/intelmpi2018.3-cuda10.0-cudnn7-ubuntu16.04:20200723.v1\",\n        \"baseImageRegistry\": {\n            \"address\": null,\n            \"password\": null,\n            \"registryIdentity\": null,\n            \"username\": null\n        },\n        \"enabled\": false,\n        \"platform\": {\n            \"architecture\": \"amd64\",\n            \"os\": \"Linux\"\n        },\n        \"sharedVolumes\": true,\n        \"shmSize\": null\n    },\n    \"environmentVariables\": {\n        \"EXAMPLE_ENV_VAR\": \"EXAMPLE_VALUE\"\n    },\n    \"inferencingStackVersion\": null,\n    \"name\": \"MAG-ParallelRunEnv\",\n    \"python\": {\n        \"baseCondaEnvironment\": null,\n        \"condaDependencies\": {\n            \"channels\": [\n                \"anaconda\",\n                \"conda-forge\"\n            ],\n            \"dependencies\": [\n                \"python=3.6.2\",\n                {\n                    \"pip\": [\n                        \"azureml-core\",\n                        \"azureml-dataprep[fuse]\"\n                    ]\n                }\n            ],\n            \"name\": \"azureml_472b5cb0e7da3dc8e483797f3b40439b\"\n        },\n        \"condaDependenciesFile\": null,\n        \"interpreterPath\": \"python\",\n        \"userManagedDependencies\": false\n    },\n    \"r\": null,\n    \"spark\": {\n        \"packages\": [],\n        \"precachePackages\": true,\n        \"repositories\": []\n    },\n    \"version\": \"1\"\n}"
     },
     "metadata": {},
     "execution_count": 16
    }
   ],
   "source": [
    "from azureml.core import Environment\n",
    "from azureml.core.conda_dependencies import CondaDependencies\n",
    "from azureml.core.runconfig import DEFAULT_GPU_IMAGE\n",
    "\n",
    "cd = CondaDependencies.create(pip_packages=[#\"tensorflow-gpu==1.15.2\",\n",
    "                                            \"azureml-core\", \"azureml-dataprep[fuse]\"])\n",
    "\n",
    "env = Environment(name=\"MAG-ParallelRunEnv\")\n",
    "env.python.conda_dependencies=cd\n",
    "env.docker.base_image = DEFAULT_GPU_IMAGE\n",
    "env.register(workspace=ws)"
   ]
  },
  {
   "source": [
    "# create and register images data set\n",
    "\n",
    "\n",
    "\n",
    "FileDataset can be used as input of an experiment run. It can also be registered to workspace with a specified name and be retrieved by that name later.\n",
    "\n",
    "FileDataset can be subsetted by invoking different subsetting methods available on this class. The result of subsetting is always a new FileDataset.\n",
    "\n",
    "The actual data loading happens when FileDataset is asked to deliver the data into another storage mechanism (e.g. files downloaded or mounted to local path)."
   ],
   "cell_type": "markdown",
   "metadata": {}
  },
  {
   "cell_type": "code",
   "execution_count": 13,
   "metadata": {
    "tags": []
   },
   "outputs": [],
   "source": [
    "dataset_path = (godzilla_datastore, 'images')\n",
    "\n",
    "dataset_name = 'anpr_images'\n",
    "anpr_images = ws.datasets.get(dataset_name)\n",
    "if anpr_images is None: \n",
    "    print(f'dataset:{dataset_name} does not exit, create and register')\n",
    "    anpr_images = Dataset.File.from_files(dataset_path)\n",
    "    anpr_images = anpr_images.register(workspace=ws, name=dataset_name)\n",
    "    print(anpr_images)"
   ]
  },
  {
   "cell_type": "code",
   "execution_count": 14,
   "metadata": {},
   "outputs": [
    {
     "output_type": "execute_result",
     "data": {
      "text/plain": "['/2020/07/28/20200601_213247.jpg',\n '/2020/07/28/T4636_2.jpg',\n '/20200601_213236.jpg',\n '/20200601_213247 - Copy.jpg',\n '/20200601_213247.jpg',\n '/Cursive_Writing_on_Notebook_paper.jpg',\n '/T46336_1.jpg',\n '/T4636_2.jpg',\n '/TC31930_1.jpg',\n '/TC31930_2.jpg',\n '/YJE00U.jpg',\n '/bike.jpg',\n '/hc1427.jpg',\n '/hsv39.jpg',\n '/mcl650.jpg']"
     },
     "metadata": {},
     "execution_count": 14
    }
   ],
   "source": [
    "anpr_images.to_path()"
   ]
  },
  {
   "cell_type": "code",
   "execution_count": 15,
   "metadata": {},
   "outputs": [],
   "source": [
    "# with anpr_images.mount() as mount_context: \n",
    "#     os.listdir(mount_context.mount_point)"
   ]
  },
  {
   "cell_type": "code",
   "execution_count": 16,
   "metadata": {
    "tags": []
   },
   "outputs": [],
   "source": [
    "# # You can also use the start and stop methods\n",
    "# mount_context = anpr_images.mount()\n",
    "# print(mount_context.mount_point)\n",
    "# mount_context.start()  # this will mount the file streams\n",
    "# mount_context.stop()  # this will unmount the file streams"
   ]
  },
  {
   "source": [
    "## abstract data set operations\n",
    "\n",
    "exploring what we get with file datasets \n"
   ],
   "cell_type": "markdown",
   "metadata": {}
  },
  {
   "cell_type": "code",
   "execution_count": 17,
   "metadata": {
    "tags": []
   },
   "outputs": [
    {
     "output_type": "stream",
     "name": "stdout",
     "text": "<class 'azureml.data.file_dataset.FileDataset'>\n"
    }
   ],
   "source": [
    "print(type(anpr_images))"
   ]
  },
  {
   "cell_type": "code",
   "execution_count": 18,
   "metadata": {},
   "outputs": [],
   "source": [
    "named_input = anpr_images.as_named_input('foo')"
   ]
  },
  {
   "cell_type": "code",
   "execution_count": 19,
   "metadata": {
    "tags": []
   },
   "outputs": [
    {
     "output_type": "stream",
     "name": "stdout",
     "text": "direct foo\n"
    }
   ],
   "source": [
    "print(named_input.mode, named_input.name)"
   ]
  },
  {
   "cell_type": "code",
   "execution_count": 20,
   "metadata": {},
   "outputs": [
    {
     "output_type": "execute_result",
     "data": {
      "text/plain": "{'label_ds': DatasetRegistration(id='cec5662f-6eec-42e2-aabe-110e9c94bb70', name='label_ds', version=1, description='', tags={}), 'input_images': DatasetRegistration(id='c602c25f-cec0-4f30-9bf4-33eb44fcbfb9', name='input_images', version=1, description='', tags={}), 'anpr_images': DatasetRegistration(id='a89fea95-9f2e-4df4-b469-449e1c5c2286', name='anpr_images', version=1, description='', tags={}), 'ojsalesdata': DatasetRegistration(id='a99450ca-5802-4de5-ab60-cab59e63bfb0', name='ojsalesdata', version=1, description='', tags={'opendatasets': 'sample-oj-sales-simulated'})}"
     },
     "metadata": {},
     "execution_count": 20
    }
   ],
   "source": [
    "ws.datasets"
   ]
  },
  {
   "cell_type": "code",
   "execution_count": 21,
   "metadata": {},
   "outputs": [],
   "source": [
    "ds_anpr = ws.datasets['anpr_images']"
   ]
  },
  {
   "cell_type": "code",
   "execution_count": 22,
   "metadata": {},
   "outputs": [
    {
     "output_type": "execute_result",
     "data": {
      "text/plain": "azureml.data.file_dataset.FileDataset"
     },
     "metadata": {},
     "execution_count": 22
    }
   ],
   "source": [
    "type(ds_anpr)"
   ]
  },
  {
   "cell_type": "code",
   "execution_count": 23,
   "metadata": {},
   "outputs": [
    {
     "output_type": "execute_result",
     "data": {
      "text/plain": "['/2020/07/28/20200601_213247.jpg',\n '/2020/07/28/T4636_2.jpg',\n '/20200601_213236.jpg',\n '/20200601_213247 - Copy.jpg',\n '/20200601_213247.jpg',\n '/Cursive_Writing_on_Notebook_paper.jpg',\n '/T46336_1.jpg',\n '/T4636_2.jpg',\n '/TC31930_1.jpg',\n '/TC31930_2.jpg',\n '/YJE00U.jpg',\n '/bike.jpg',\n '/hc1427.jpg',\n '/hsv39.jpg',\n '/mcl650.jpg']"
     },
     "metadata": {},
     "execution_count": 23
    }
   ],
   "source": [
    "ds_anpr.to_path()"
   ]
  },
  {
   "cell_type": "code",
   "execution_count": null,
   "metadata": {},
   "outputs": [],
   "source": []
  }
 ]
}